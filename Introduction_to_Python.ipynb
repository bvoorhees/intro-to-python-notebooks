{
  "nbformat": 4,
  "nbformat_minor": 0,
  "metadata": {
    "colab": {
      "name": "1. Introduction to Python",
      "provenance": [],
      "collapsed_sections": [
        "HMqpR2XAoi0F",
        "Kt7Mql4kS16-",
        "cKENAA01VFHO",
        "Qk9nMZRGAeJ9"
      ],
      "toc_visible": true,
      "authorship_tag": "ABX9TyNvyGS+X5s/J9YM5CRuQYOu"
    },
    "kernelspec": {
      "name": "python3",
      "display_name": "Python 3"
    }
  },
  "cells": [
    {
      "cell_type": "markdown",
      "metadata": {
        "id": "UWz7Sd25rSPn"
      },
      "source": [
        "# **Introduction to Python: The Why, The Tools, and The Building Blocks**\n"
      ]
    },
    {
      "cell_type": "markdown",
      "metadata": {
        "id": "nR2b0DNVq9IV"
      },
      "source": [
        "## **Why use a programming language like Python for data analysis?**\n",
        "\n"
      ]
    },
    {
      "cell_type": "markdown",
      "metadata": {
        "id": "5VD5pd4ft-xP"
      },
      "source": [
        "There are many advantages to using a programming language like python for data analysis. We'll dive into those reasons throughout this class-- but to start answering this question, I'll use spreadsheet software (e.g. Excel) as a baseline comparison, as most people who have worked with data in school or at work are familiar with gathering, processing, analyzing, and presenting data using popular spreadsheet software. \n",
        "\n",
        "There are some key advantages in using spreadsheets for data analysis, but also some key drawbacks when compared to Python. Let's look at common tasks in data analysis, and see we can/can't do in spreadsheets and a programming language like Python."
      ]
    },
    {
      "cell_type": "markdown",
      "metadata": {
        "id": "-6FMUWWTqnaF"
      },
      "source": [
        "### **Spreadsheets vs. Programming**\n",
        "\n",
        "What can a spreadsheet do that a programming langauge cannot? And vice versa?\n",
        "\n",
        "|  Task  |  Spreadsheet | Programming Language |\n",
        "|---|---| --- |\n",
        "| Installation | **Easier** | **Harder** |\n",
        "| Learning how to use | **Easier** | **Harder** |\n",
        "| Importing/gathering data from a wide variety of formats | **Limited** | **Yes**|\n",
        "| Organizing/processing data  | Yes | Yes **(including large datasets)** |\n",
        "| Vizualization | Yes | Yes |\n",
        "| Repeated and automated analysis | **No/Limited** | **Yes**  |\n",
        "| Advanced analytics  (e.g. prediction, statistical analysis) | **Limited** | **Yes** | \n",
        "| Sharing analyses | Yes *(possible advantage when sharing with non-technical users)* | Yes | \n",
        "| Integrating work into software applications | **Limited** | **Yes** |\n",
        "| Paying for it | **Not Free (usually)** | **Free** |\n",
        "| Getting support | **Paid-options Available** | **Open-Source Community** |"
      ]
    },
    {
      "cell_type": "markdown",
      "metadata": {
        "id": "oMQvYnNUqvaO"
      },
      "source": [
        "### **A note about Python vs R for data analysis**\n",
        "\n",
        "You may have heard of both [R](https://www.r-project.org/) and Python when doing your research on programming langauges for data anlaysis--as they are the most popular languages used by data scientists and analysts who perform their work in scripting languages.\n",
        "\n",
        "Here is a brief comparison between the two programming languages:\n",
        "\n",
        "| Area of Comparison | Python | R |\n",
        "|---|---| --- |\n",
        "| Data gathering | Yes | Yes |\n",
        "| Data processing | Yes | Yes |\n",
        "| Data analysis | Yes | Yes |\n",
        "| Data visualization | Yes | Yes |\n",
        "| General programming (robotics, software development, etc.) | **Yes** | **Not really** |\n",
        "| Cost | Free | Free |\n",
        "\n",
        "This is a gross simplification of the comparison between the two languages-- and the degree to which one is better than the other is the subject to debate and often a matter of personal preference. \n",
        "\n",
        "**Regardless** *Programming is a mindset and a thought process - once you know one language, you can easily pickup the next one.* Think of this class as the beginning of a journey in learning how to _script_, not how to program in Python. "
      ]
    },
    {
      "cell_type": "markdown",
      "metadata": {
        "id": "lUzg0S8Dl92g"
      },
      "source": [
        "## **Tools**\n",
        "\n"
      ]
    },
    {
      "cell_type": "markdown",
      "metadata": {
        "id": "FSMv6ZngwLVw"
      },
      "source": [
        "### **In this course**\n",
        "\n",
        "In our course, we'll be using [Google Colab notebooks](https://colab.research.google.com/notebooks/intro.ipynb) to quickly focus on the basics of Python for HR Analytics and Reporting (instead of spending time together making sure you have installed Python properly on your computer). \n",
        "\n",
        "Google colab is a cloud service that runs Python 3 **notebooks**, and gives you access to a lot of popular Python libraries (code banks that let you do lots of cool and interesting things), and apps. "
      ]
    },
    {
      "cell_type": "markdown",
      "metadata": {
        "id": "aEZR1RUMwIA_"
      },
      "source": [
        "### **After this course (Notebooks vs. Scripts)**\n",
        "\n",
        "Running analyses in notebooks (like in Google Colab), may be all you ever need in your Python journey. However, you should know that Notebooks are only one of the two major ways of running code in Python:\n",
        "\n",
        "![](https://1.bp.blogspot.com/-srqLioiiMPY/Wm6_08uBo4I/AAAAAAAAEZY/uLNCMW0xa18sVvR0ArykpToA79yNQ958QCLcBGAs/s640/Capture.JPG)\n",
        "\n",
        "**Source:** Kaggle\n",
        "\n",
        "In short, **Notebooks** are excellent vehicles for exploratory analysis and sharing results with non-technical audiences, whereas **scripts** enable reproducibility and integration into software applications. \n",
        "\n",
        "\n",
        "\n",
        "\n",
        "<br>\n",
        "<br>\n",
        "\n",
        "#### **Installing Python on your own computer (aka becuase you probably can't use Google Colab at the office)**\n",
        "\n",
        "Generally, the [Anaconda Distribution](http://www.anaconda.org) of python is the most popular for data science and analysis. It includes a Notebook engine (Jupyter) and a script interactive development environemnt (IDE) called Spyder. \n",
        "\n",
        "However, there are other distributions of Python properly on your local machine sometimes can be a bit of a dautning task (especially if you are installing it on your company's laptop), the [Hitchhiker's Guide to Python](https://docs.python-guide.org) has clear instructions for different operating systems.\n"
      ]
    },
    {
      "cell_type": "markdown",
      "metadata": {
        "id": "22VbxfdSt5hR"
      },
      "source": [
        "### **When you are stuck (EVERYONE gets stuck)**\n",
        "\n",
        "I found this tweet recently that I think is important for beginners to realize. **Even the most exepreinced data scientists and analysts out there need to Google because they don't have everything memorized!**\n",
        "\n",
        "![](https://drive.google.com/uc?id=1kAPHx1eTGhVgH27sqhD4Ew2uyc012F8l)\n",
        "\n",
        "* First and foremost, you should use `help()` in the Python console to better understand how to use a function you want to employ in your code.\n",
        "\n",
        "*  [Stack Overflow](http://www.stackoverflow.com) will be among search results for any query that has \"python\" plus any other term you insert into the query. This is a community of data scientists, statistical programmers, and developers who answer and upvote answers to common (and not so common) questions.\n",
        "\n",
        "* [Kaggle](http://www.kaggle.com) also has tutorials, dummy datasets, and forums for you to follow or ask questions. \n",
        "\n",
        "* Finally ***Excel*** or ***Google Sheets*** is a very useful tool to help you visualize and check what you are trying to acheive with Python code. Many beginners will perform their work in Python side-by-side with Excel or Google Sheets to make sure each step of their code matches what they expect to see in a spreadsheet; eventually will be comfortable enough to move away from the spreadsheet software :). "
      ]
    },
    {
      "cell_type": "markdown",
      "metadata": {
        "id": "0OQjER88o5Al"
      },
      "source": [
        "## **Building Blocks of Python for Data Analysis**\n"
      ]
    },
    {
      "cell_type": "markdown",
      "metadata": {
        "id": "KwJQHhVUCy8q"
      },
      "source": [
        "### **Built-in Python Data Types**\n",
        "\n",
        "|  | Python Data Types | Example | Add x  | Delete x |\n",
        "|:---|:---|:---|:---|:---|\n",
        "| 0 | Boolean | `True`, `False` | NA | NA | \n",
        "| 1 | Numeric | `12`, `19.5` | `value + x` | `value - x` |\n",
        "| 2 | Strings | `\"People Analytics\"`, `'Human Resources 101'` | `value + x` | NA |\n",
        "| 3 | Lists |  `[1, 4, 7, 10]`, `[\"People\", \"Analytics\", \"is\", \"Awesome!\"]`| `listname.append(x)` | `listname.remove(x)` | \n",
        "| 4 | Dictionaries | `{\"Elon Musk\": \"Renewable Energy\", \"Steve Jobs\": \"Computers\"}`| `dictionaryname[\"Bill Gates\"] = \"Computers\"` | `del dictionaryname[\"Bill Gates\"]` |\n",
        "\n",
        "**Note:** There are other data types including tuples and sets, but we will not cover them in this introductory course. "
      ]
    },
    {
      "cell_type": "code",
      "metadata": {
        "id": "YBN4U1Fx7kU_",
        "colab": {
          "base_uri": "https://localhost:8080/"
        },
        "outputId": "95799b9c-1236-451f-c8ad-eafa2166a082"
      },
      "source": [
        "# Numeric Data Example \n",
        "x = 21\n",
        "y = 7\n",
        "x + y"
      ],
      "execution_count": null,
      "outputs": [
        {
          "output_type": "execute_result",
          "data": {
            "text/plain": [
              "28"
            ]
          },
          "metadata": {
            "tags": []
          },
          "execution_count": 18
        }
      ]
    },
    {
      "cell_type": "code",
      "metadata": {
        "id": "8iDsqa927-vO",
        "colab": {
          "base_uri": "https://localhost:8080/",
          "height": 37
        },
        "outputId": "b4cd9274-6c82-49a5-ace0-8e6b14711144"
      },
      "source": [
        "#  String Example\n",
        "x = \"People Analytics \"\n",
        "y = \"is Amazing\"\n",
        "x + y"
      ],
      "execution_count": null,
      "outputs": [
        {
          "output_type": "execute_result",
          "data": {
            "application/vnd.google.colaboratory.intrinsic+json": {
              "type": "string"
            },
            "text/plain": [
              "'People Analytics is Amazing'"
            ]
          },
          "metadata": {
            "tags": []
          },
          "execution_count": 19
        }
      ]
    },
    {
      "cell_type": "code",
      "metadata": {
        "id": "csuTCzj68JZW",
        "colab": {
          "base_uri": "https://localhost:8080/"
        },
        "outputId": "7987622d-e0db-4bba-9a6b-17db3ff49a4e"
      },
      "source": [
        "# List Example\n",
        "x = [\"Human\", \"Resources\", \"101\"]\n",
        "x"
      ],
      "execution_count": null,
      "outputs": [
        {
          "output_type": "execute_result",
          "data": {
            "text/plain": [
              "['Human', 'Resources', '101']"
            ]
          },
          "metadata": {
            "tags": []
          },
          "execution_count": 20
        }
      ]
    },
    {
      "cell_type": "code",
      "metadata": {
        "id": "hH3S8FB9gJTU",
        "colab": {
          "base_uri": "https://localhost:8080/",
          "height": 37
        },
        "outputId": "5dd818c8-19a7-46b4-df6e-b63b79dff4e9"
      },
      "source": [
        "# Dictionary Example\n",
        "all_about_bennet= {'Name':'Bennet',\n",
        "                   'Country':'United States',\n",
        "                   'State': 'New Jersey',\n",
        "                   'Favorite Food':\"Joe's Pizza on 6th Ave\",\n",
        "                   'Favorite form of exercise':'Peloton'}\n",
        "\n",
        "all_about_bennet['Country']"
      ],
      "execution_count": null,
      "outputs": [
        {
          "output_type": "execute_result",
          "data": {
            "application/vnd.google.colaboratory.intrinsic+json": {
              "type": "string"
            },
            "text/plain": [
              "'United States'"
            ]
          },
          "metadata": {
            "tags": []
          },
          "execution_count": 23
        }
      ]
    },
    {
      "cell_type": "markdown",
      "metadata": {
        "id": "VCA8KqIzgrcq"
      },
      "source": [
        "### **Basics of Manipulating Built-In Data Types**"
      ]
    },
    {
      "cell_type": "markdown",
      "metadata": {
        "id": "RCuWEwTs8lIH"
      },
      "source": [
        "#### **Slicing** \n",
        "\n"
      ]
    },
    {
      "cell_type": "markdown",
      "metadata": {
        "id": "1m1Cf-pYoRQF"
      },
      "source": [
        "Lists and strings can be decomposed into their constituents through **slicing**.\n",
        "\n",
        "```\n",
        "x = [\"Human\", \"Resources\", \"101\"]\n",
        "Element 0          1         2   \n",
        "```\n",
        "\n",
        "A slice is specified through square brackets. \n",
        "\n",
        "***NOTE!!!*** Notice how the first element of a list begins with `0` in Python, and not the number `1`. Remember this now to save potential heartbreak later.\n",
        "\n",
        "If we wanted to get the element `\"101\"` from x above, we would call `x[2]`."
      ]
    },
    {
      "cell_type": "markdown",
      "metadata": {
        "id": "3AAf7-qs_Wkj"
      },
      "source": [
        "Here's an example with a string object\n",
        "```\n",
        "x = \"Bennet\"\n",
        "     012345\n",
        "```\n",
        "So get the first letter of x, we call `x[0]`\n",
        "\n",
        "**Question:** How do we get the last letter of x?"
      ]
    },
    {
      "cell_type": "code",
      "metadata": {
        "id": "TLSmhzeN_03p",
        "colab": {
          "base_uri": "https://localhost:8080/",
          "height": 37
        },
        "outputId": "1bde882c-6e61-4560-c8e5-6e06ad774c9c"
      },
      "source": [
        "x = \"Bennet\"\n",
        "x[-2]"
      ],
      "execution_count": null,
      "outputs": [
        {
          "output_type": "execute_result",
          "data": {
            "application/vnd.google.colaboratory.intrinsic+json": {
              "type": "string"
            },
            "text/plain": [
              "'e'"
            ]
          },
          "metadata": {
            "tags": []
          },
          "execution_count": 25
        }
      ]
    },
    {
      "cell_type": "markdown",
      "metadata": {
        "id": "0LicK6KxkYNI"
      },
      "source": [
        "We can also get more than one element from a string, list, or dictionary. Let's get the word \"People\" out of \"People Analytics\", since \"People\" has 6 letters in it, we need to get everything from the first letter (`0`) to the 6th (which is a `6` because treats the end of the range as exclusive, so instead of writing a `5` we write a `6` below). "
      ]
    },
    {
      "cell_type": "code",
      "metadata": {
        "id": "jC0dkgo9_WDw",
        "colab": {
          "base_uri": "https://localhost:8080/",
          "height": 37
        },
        "outputId": "302de0be-2581-4310-f159-3b1011e3b9f6"
      },
      "source": [
        "x = \"People Analytics\"\n",
        "x[7:]"
      ],
      "execution_count": null,
      "outputs": [
        {
          "output_type": "execute_result",
          "data": {
            "application/vnd.google.colaboratory.intrinsic+json": {
              "type": "string"
            },
            "text/plain": [
              "'Analytics'"
            ]
          },
          "metadata": {
            "tags": []
          },
          "execution_count": 26
        }
      ]
    },
    {
      "cell_type": "markdown",
      "metadata": {
        "id": "vkO7tBkmoWV6"
      },
      "source": [
        "#### **Adding elements to lists and dictionaries**"
      ]
    },
    {
      "cell_type": "markdown",
      "metadata": {
        "id": "XNC6o9U7okLa"
      },
      "source": [
        "##### **Lists**\n",
        "\n",
        "We'll use the `.append()` method (this is Python term for a function that can be applied directly to that kind of object-- we'll go deeper on this later in the course) to add stuff we want to include in our lists."
      ]
    },
    {
      "cell_type": "code",
      "metadata": {
        "id": "BD9_1WPoo1KI",
        "colab": {
          "base_uri": "https://localhost:8080/"
        },
        "outputId": "bbdf6f7a-19b4-4ba1-f94d-2bcca3f1528a"
      },
      "source": [
        "states_with_best_pizza = ['New York','New Jersey']\n",
        "\n",
        "states_with_best_pizza.append('Illinois')\n",
        "\n",
        "states_with_best_pizza"
      ],
      "execution_count": null,
      "outputs": [
        {
          "output_type": "execute_result",
          "data": {
            "text/plain": [
              "['New York', 'New Jersey', 'Illinois']"
            ]
          },
          "metadata": {
            "tags": []
          },
          "execution_count": 27
        }
      ]
    },
    {
      "cell_type": "markdown",
      "metadata": {
        "id": "0MwUWGK7pM2O"
      },
      "source": [
        "##### **Dictionaries**\n",
        "\n",
        "To add a new element to a dictionary, we put specify the name of the new key in square brackets, and then set it equal to what we ant the value pair to be."
      ]
    },
    {
      "cell_type": "code",
      "metadata": {
        "id": "6MxvCnwopPx4",
        "colab": {
          "base_uri": "https://localhost:8080/"
        },
        "outputId": "42a128a0-b899-4ac9-afc5-1d0e9a17c8a4"
      },
      "source": [
        "all_about_bennet['Least Favorite Smell'] = 'Midtown Manhattan subway platforms in 100 degree weather'\n",
        "\n",
        "all_about_bennet"
      ],
      "execution_count": null,
      "outputs": [
        {
          "output_type": "execute_result",
          "data": {
            "text/plain": [
              "{'Country': 'United States',\n",
              " 'Favorite Food': \"Joe's Pizza on 6th Ave\",\n",
              " 'Favorite form of exercise': 'Peloton',\n",
              " 'Least Favorite Smell': 'Midtown Manhattan subway platforms in 100 degree weather',\n",
              " 'Name': 'Bennet',\n",
              " 'State': 'New Jersey'}"
            ]
          },
          "metadata": {
            "tags": []
          },
          "execution_count": 28
        }
      ]
    },
    {
      "cell_type": "markdown",
      "metadata": {
        "id": "icu1gDMuigI5"
      },
      "source": [
        "#### Removing elements from lists and dictionaries"
      ]
    },
    {
      "cell_type": "markdown",
      "metadata": {
        "id": "rfD0glnGmqZb"
      },
      "source": [
        "##### **Lists**"
      ]
    },
    {
      "cell_type": "markdown",
      "metadata": {
        "id": "Nqlti6oBm3Qw"
      },
      "source": [
        "We'll use the `.remove()` method to take stuff out of lists we don't want. "
      ]
    },
    {
      "cell_type": "code",
      "metadata": {
        "id": "qdsuW_OY8_3O",
        "colab": {
          "base_uri": "https://localhost:8080/"
        },
        "outputId": "3b69eae6-0aaa-4a5c-e115-00dfc1bd0f27"
      },
      "source": [
        "x = [\"Human\", \"Resources\", \"101\"]\n",
        "x.remove(\"Human\") \n",
        "x"
      ],
      "execution_count": null,
      "outputs": [
        {
          "output_type": "execute_result",
          "data": {
            "text/plain": [
              "['Resources', '101']"
            ]
          },
          "metadata": {
            "tags": []
          },
          "execution_count": 29
        }
      ]
    },
    {
      "cell_type": "markdown",
      "metadata": {
        "id": "li6MYMFrnh0m"
      },
      "source": [
        "##### **Dictionaries**\n",
        "\n",
        "We'll use the `del` function to remove an element from a dictionary"
      ]
    },
    {
      "cell_type": "code",
      "metadata": {
        "id": "umd_PiwGnhLe",
        "colab": {
          "base_uri": "https://localhost:8080/"
        },
        "outputId": "74d1df4e-9126-4870-d9cd-9311a727a425"
      },
      "source": [
        "del all_about_bennet['Least Favorite Smell']\n",
        "\n",
        "all_about_bennet"
      ],
      "execution_count": null,
      "outputs": [
        {
          "output_type": "execute_result",
          "data": {
            "text/plain": [
              "{'Country': 'United States',\n",
              " 'Favorite Food': \"Joe's Pizza on 6th Ave\",\n",
              " 'Favorite form of exercise': 'Peloton',\n",
              " 'Name': 'Bennet',\n",
              " 'State': 'New Jersey'}"
            ]
          },
          "metadata": {
            "tags": []
          },
          "execution_count": 30
        }
      ]
    },
    {
      "cell_type": "markdown",
      "metadata": {
        "id": "HMqpR2XAoi0F"
      },
      "source": [
        "### **Basics of programming for data wrangling**\n",
        "\n",
        "**Comparisons** are central to data wrangling.\n",
        "This is when we compare two (or more) variables to determine if a condition is true.\n",
        "\n",
        "There are three key features:\n",
        "- Two variables being compared.\n",
        "- How the variables are being compared, which is known as an **operator**.\n",
        "- The output is a Boolean, `True` or `False`.\n",
        "\n",
        "| Operator | Meaning |\n",
        "|:---|:---|\n",
        "| < | strictly less than |\n",
        "| <= | less than or equal |\n",
        "| > | strictly greater than |\n",
        "| >= | greater than or equal |\n",
        "| == | equal |\n",
        "| != | not equal |\n",
        "| is | object identity |\n",
        "| is not | negated object identity |\n",
        "\n",
        "Further information on operators is [detailed here](https://docs.python.org/3/library/stdtypes.html#comparisons).\n",
        "\n"
      ]
    },
    {
      "cell_type": "code",
      "metadata": {
        "id": "sebDmc84THrL",
        "colab": {
          "base_uri": "https://localhost:8080/"
        },
        "outputId": "5050ae6b-7cb3-40e2-fc95-675e574cbf8f"
      },
      "source": [
        "10 > 1"
      ],
      "execution_count": null,
      "outputs": [
        {
          "output_type": "execute_result",
          "data": {
            "text/plain": [
              "True"
            ]
          },
          "metadata": {
            "tags": []
          },
          "execution_count": 31
        }
      ]
    },
    {
      "cell_type": "code",
      "metadata": {
        "id": "80sK8bcPTOYo",
        "colab": {
          "base_uri": "https://localhost:8080/"
        },
        "outputId": "e5b742fd-936c-45d2-a69f-dda355ebd656"
      },
      "source": [
        "10 == 1"
      ],
      "execution_count": null,
      "outputs": [
        {
          "output_type": "execute_result",
          "data": {
            "text/plain": [
              "False"
            ]
          },
          "metadata": {
            "tags": []
          },
          "execution_count": 32
        }
      ]
    },
    {
      "cell_type": "code",
      "metadata": {
        "id": "exjVJMePUwBI",
        "colab": {
          "base_uri": "https://localhost:8080/"
        },
        "outputId": "d9d91cde-21ad-443c-9ab6-3a5057ee53ca"
      },
      "source": [
        "10 is 1"
      ],
      "execution_count": null,
      "outputs": [
        {
          "output_type": "execute_result",
          "data": {
            "text/plain": [
              "False"
            ]
          },
          "metadata": {
            "tags": []
          },
          "execution_count": 33
        }
      ]
    },
    {
      "cell_type": "code",
      "metadata": {
        "id": "P16jKT8LTUJ4",
        "colab": {
          "base_uri": "https://localhost:8080/"
        },
        "outputId": "86850ed1-a460-4842-dd7d-a945fd072f6d"
      },
      "source": [
        "'HR' is 'HR'"
      ],
      "execution_count": null,
      "outputs": [
        {
          "output_type": "execute_result",
          "data": {
            "text/plain": [
              "True"
            ]
          },
          "metadata": {
            "tags": []
          },
          "execution_count": 34
        }
      ]
    },
    {
      "cell_type": "code",
      "metadata": {
        "id": "VSa505-JVF9K",
        "colab": {
          "base_uri": "https://localhost:8080/"
        },
        "outputId": "c1caff09-d98e-4850-c81a-e6744bf80727"
      },
      "source": [
        "'HR' == 'HR'"
      ],
      "execution_count": null,
      "outputs": [
        {
          "output_type": "execute_result",
          "data": {
            "text/plain": [
              "True"
            ]
          },
          "metadata": {
            "tags": []
          },
          "execution_count": 38
        }
      ]
    },
    {
      "cell_type": "code",
      "metadata": {
        "id": "74lwcGNgVzyS",
        "colab": {
          "base_uri": "https://localhost:8080/"
        },
        "outputId": "20e9c427-e77d-4229-9b33-d40ac3f1e00d"
      },
      "source": [
        "x = 10\n",
        "y = 10\n",
        "x == y"
      ],
      "execution_count": null,
      "outputs": [
        {
          "output_type": "execute_result",
          "data": {
            "text/plain": [
              "True"
            ]
          },
          "metadata": {
            "tags": []
          },
          "execution_count": 39
        }
      ]
    },
    {
      "cell_type": "code",
      "metadata": {
        "id": "AtiO5mBFV2mD",
        "colab": {
          "base_uri": "https://localhost:8080/"
        },
        "outputId": "2d4bb1a5-3cf2-4bab-a566-099de90b699a"
      },
      "source": [
        "x = 'HR'\n",
        "y = \"HR\"\n",
        "x == y"
      ],
      "execution_count": null,
      "outputs": [
        {
          "output_type": "execute_result",
          "data": {
            "text/plain": [
              "True"
            ]
          },
          "metadata": {
            "tags": []
          },
          "execution_count": 40
        }
      ]
    },
    {
      "cell_type": "code",
      "metadata": {
        "id": "50EK9sqlVN4t",
        "colab": {
          "base_uri": "https://localhost:8080/"
        },
        "outputId": "cf3aca4f-2079-483b-b0e2-fda6a3164d69"
      },
      "source": [
        "'Human Resources' > 'People Analytics'"
      ],
      "execution_count": null,
      "outputs": [
        {
          "output_type": "execute_result",
          "data": {
            "text/plain": [
              "False"
            ]
          },
          "metadata": {
            "tags": []
          },
          "execution_count": 41
        }
      ]
    },
    {
      "cell_type": "markdown",
      "metadata": {
        "id": "Kt7Mql4kS16-"
      },
      "source": [
        "#### **If/Else conditions**\n",
        "\n",
        "Comparisons are powerful because we can use them in our code to identify certain types of data. Using the example from above, we can identify players that are older than 29, or who play for the Boston Celtics. \n",
        "\n",
        "**Conditional** statements allow us to do different things depending on the result of a comparison or Boolean variable, which we refer to as a condition. The logic looks like this:\n",
        "- if a condition is true, do something.\n",
        "- if a conditions is false, do a different thing (or nothing!).\n"
      ]
    },
    {
      "cell_type": "code",
      "metadata": {
        "id": "GXi2nEUWXcS2"
      },
      "source": [
        "avery_age = 19\n",
        "cutoff_age = 29\n",
        "if avery_age > cutoff_age:\n",
        "  print(\"Avery meets the cutoff\")"
      ],
      "execution_count": null,
      "outputs": []
    },
    {
      "cell_type": "markdown",
      "metadata": {
        "id": "JvC7ji5dXeMY"
      },
      "source": [
        "In this example we use two variables, `avery_age` and `cutoff_age`, which are used as part of the if statement to test whether `avery_age` is greater than `cutoff_age`. \n",
        "\n",
        "**Question:** Why is there no output from this operation?"
      ]
    },
    {
      "cell_type": "markdown",
      "metadata": {
        "id": "v1MjmCRNApRh"
      },
      "source": [
        "`elif` stands for `else if` and enables us to test for multiple conditions. "
      ]
    },
    {
      "cell_type": "code",
      "metadata": {
        "id": "3QMgUeM0Af0P",
        "colab": {
          "base_uri": "https://localhost:8080/"
        },
        "outputId": "430896fb-03d3-4ddb-ac0b-4f22447c18f7"
      },
      "source": [
        "avery_age=21\n",
        "\n",
        "if avery_age > cutoff_age:\n",
        "  print(\"Avery meets the cutoff\")\n",
        "elif avery_age > 21:\n",
        "  print(\"Avery is older than 21 but does not meet the cutoff\")\n",
        "else:\n",
        "  print(\"Avery is 21 or younger than 21\")"
      ],
      "execution_count": null,
      "outputs": [
        {
          "output_type": "stream",
          "text": [
            "Avery is younger than 21\n"
          ],
          "name": "stdout"
        }
      ]
    },
    {
      "cell_type": "code",
      "metadata": {
        "id": "YA5UfFVjAf3y"
      },
      "source": [
        ""
      ],
      "execution_count": null,
      "outputs": []
    },
    {
      "cell_type": "markdown",
      "metadata": {
        "id": "cKENAA01VFHO"
      },
      "source": [
        "#### **For Loops**\n",
        "\n",
        "A **for loop** is used to iterate over a sequence. \n",
        "\n",
        "A sequence can be a string, list, dictionary or other data types. \n"
      ]
    },
    {
      "cell_type": "code",
      "metadata": {
        "id": "3Ow59ZtPatms",
        "colab": {
          "base_uri": "https://localhost:8080/"
        },
        "outputId": "88f9f12d-455a-4638-c473-6a16969961dd"
      },
      "source": [
        "name_list = [\"Avery\", \"John\", \"Jonas\", \"Jordan\"]\n",
        "for x in name_list:\n",
        "  print(x)"
      ],
      "execution_count": null,
      "outputs": [
        {
          "output_type": "stream",
          "text": [
            "Avery\n",
            "John\n",
            "Jonas\n",
            "Jordan\n"
          ],
          "name": "stdout"
        }
      ]
    },
    {
      "cell_type": "code",
      "metadata": {
        "id": "pdB4mVKqbDmy",
        "colab": {
          "base_uri": "https://localhost:8080/"
        },
        "outputId": "c005721a-6799-4d36-ad35-e38cc966f45a"
      },
      "source": [
        "name = \"AverY\"\n",
        "for something in name:\n",
        "  print(something)"
      ],
      "execution_count": null,
      "outputs": [
        {
          "output_type": "stream",
          "text": [
            "A\n",
            "v\n",
            "e\n",
            "r\n",
            "Y\n"
          ],
          "name": "stdout"
        }
      ]
    },
    {
      "cell_type": "code",
      "metadata": {
        "id": "tR9O_ghIbMym",
        "colab": {
          "base_uri": "https://localhost:8080/"
        },
        "outputId": "1a37a4fa-4abb-43b4-e0d2-62302f041810"
      },
      "source": [
        "name_dictionary = {\"Avery\": \"Bradley\", \"John\": \"Holland\", \"Jonas\": \"Jerebko\",\"Jordan\": \"Mickey\",'Bennet':'Voorhees'}\n",
        "for x,y in name_dictionary.items():\n",
        "  print(x, y)"
      ],
      "execution_count": null,
      "outputs": [
        {
          "output_type": "stream",
          "text": [
            "Avery Bradley\n",
            "John Holland\n",
            "Jonas Jerebko\n",
            "Jordan Mickey\n",
            "Bennet Voorhees\n"
          ],
          "name": "stdout"
        }
      ]
    },
    {
      "cell_type": "markdown",
      "metadata": {
        "id": "Qk9nMZRGAeJ9"
      },
      "source": [
        "#### **Putting for loops and conditionals together**\n",
        "\n"
      ]
    },
    {
      "cell_type": "code",
      "metadata": {
        "id": "hSB8PVrhBzT6",
        "colab": {
          "base_uri": "https://localhost:8080/"
        },
        "outputId": "e822e943-780f-4102-8866-78da79112857"
      },
      "source": [
        "for key, value in name_dictionary.items():\n",
        "  if (key == \"John\" and value=='Holland'):\n",
        "    print(\"We found a John Holland:\", key, value)\n",
        "  elif key == \"Bennet\":\n",
        "    print(\"Bennet's been found!\", key, value)\n",
        "  elif key == \"Stela\":\n",
        "    print(\"We found Stela!\", key, value)\n",
        "  "
      ],
      "execution_count": null,
      "outputs": [
        {
          "output_type": "stream",
          "text": [
            "We found a John Holland: John Holland\n",
            "Bennet's been found! Bennet Voorhees\n"
          ],
          "name": "stdout"
        }
      ]
    },
    {
      "cell_type": "code",
      "metadata": {
        "id": "XcKoQbrXib3_"
      },
      "source": [
        ""
      ],
      "execution_count": null,
      "outputs": []
    },
    {
      "cell_type": "markdown",
      "metadata": {
        "id": "Fitfzl2EQcU3"
      },
      "source": [
        "### **Libraries**\n",
        "\n",
        "Libraries are bundled modules of code, documentaiton, and other resources that help you achieve tasks quickly in Python. \n",
        "\n",
        "\n",
        "![](https://pydsc.files.wordpress.com/2017/11/pythonenvironment.png)\n",
        "\n",
        "Source (Continuum Analytics - Makers of [anaconda](http://www.anaconda.org)\n",
        "\n",
        "In this course, we'll call up a variety of these libraries to complete certain tasks: \n",
        "\n",
        "|  Library  |  Purpose | \n",
        "|---|---| \n",
        "| Numpy | Working with data in arrays |\n",
        "| pandas| Working with data in table format | \n",
        "| Sci-kit Learn | Machine learning and statistical analysis of data | \n",
        "| StatsModels | Statistical analysis of data  |\n",
        "| NLTK | Natural language processing |\n",
        "| matplotlib | Data Visualization |\n",
        "| NetworkX | Analysis of networks |  \n",
        "\n",
        "However, you will find that depending on the task, you may want to use a different library that's listed in the graphic above, or use a library you find via the internet. \n",
        "\n",
        "#### **Importing Libraries to work with them**\n",
        "For example, to call Pandas (or to call Pandas as pd in our code):\n",
        "\n",
        "`import pandas` or `import pandas as pd`\n"
      ]
    },
    {
      "cell_type": "markdown",
      "metadata": {
        "id": "MbSPHNWg91NB"
      },
      "source": [
        "### **Pandas**\n",
        "\n",
        "Pandas (PANel DAta analysiS) is an incredibly useful library (a reusable bank of code) that allows for manipulation and analysis of data in Python. \n",
        "\n",
        "Pandas allows us to take data that we reviewed above and put them in to **row and column** format, like we are used to with spreadsheets :). More about this in the ***Series*** section below.\n",
        "\n",
        "\n"
      ]
    },
    {
      "cell_type": "markdown",
      "metadata": {
        "id": "Qeb-b8Uzra03"
      },
      "source": [
        "#### **The Dataframe**\n",
        "\n",
        "The primary data structure in Pandas is a [**DataFrame**](https://pandas.pydata.org/pandas-docs/stable/getting_started/dsintro.html#dataframe), which has two key features:\n",
        "\n",
        "- It is a two dimensional object which has labelled axes (columns and rows). \n",
        "- It is mutable, which means you can modify it, which is handy in data wrangling.  \n",
        "\n",
        "![](https://www.geeksforgeeks.org/wp-content/uploads/creating_dataframe1.png)\n",
        "\n",
        "Importantly, you can reference specific cells by using indices and column names. \n",
        "\n",
        "Let's assume\n",
        "- the name of this dataframe is `my_df`; and,\n",
        "- we want to know Jordan Mickey's age.\n",
        "\n",
        "This information is in the `Age` column at index `3`.\n",
        "\n",
        "In the world of Pandas, this is `my_df.at[3, \"Age\"]`.\n",
        "\n"
      ]
    },
    {
      "cell_type": "markdown",
      "metadata": {
        "id": "9lYEgBwfrgWa"
      },
      "source": [
        "#### **Series**\n",
        "\n",
        "In the example above, each column is made up of a single data type. For instance, the `Name`, `Team`, `Position` and `College` columns contain text data while `Number`, `Age`, `Weight` and `Salary` contain numeric data. \n",
        "\n",
        "Each column is a [Series](https://pandas.pydata.org/pandas-docs/stable/getting_started/dsintro.html#series), which is the atomic data type that makes up a DataFrame. These are one-dimensional arrays that have axis labels.\n",
        "\n",
        "Remember our atomic data types we reviewed above? here is how they are classified in Pandas. \n",
        "\n",
        "|  | Python Data Types | Pandas Equivalent |\n",
        "|:---|:---| :---|\n",
        "| 0 | Boolean |  `bool` |\n",
        "| 1 | Numeric | `int64`, `float64` |\n",
        "| 2 | Strings | `object` |\n",
        "| 3 | Lists |  NA |\n",
        "| 4 | Dictionaries |  NA |\n",
        "\n",
        "In the example above, the column `Name` (like all the other columns) is a **Series**. \n",
        "\n",
        "We can extract this Series by calling `my_df['Name']`, which would yield:\n",
        "\n",
        "```\n",
        "0     Avery Bradley\n",
        "1     John Holland\n",
        "2     Jonas Jerebko\n",
        "3     Jordan Mickey\n",
        "4     Terry Rozier\n",
        "5     Jared Sullinger\n",
        "6     Evan Turner\n",
        "Name: Name, Length: 389, dtype: object\n",
        "```\n",
        "\n",
        "#### Vectorized Operations\n",
        "\n",
        "Pandas is an excellent data science tool because you can efficiently manipulate a lot of data by applying functions to specific columns. \n",
        "\n",
        "An example of a vector function is to divide `Salary` by `Age` to derive an age-adjusted salary. \n",
        "\n",
        "**Question:** How would we code this?"
      ]
    }
  ]
}
