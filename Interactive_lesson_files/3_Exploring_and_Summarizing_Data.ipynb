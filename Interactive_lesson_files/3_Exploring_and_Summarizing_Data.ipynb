{
  "nbformat": 4,
  "nbformat_minor": 0,
  "metadata": {
    "colab": {
      "name": "3. Exploring and Summarizing Data",
      "provenance": [],
      "collapsed_sections": [],
      "toc_visible": true
    },
    "kernelspec": {
      "name": "python3",
      "display_name": "Python 3"
    }
  },
  "cells": [
    {
      "cell_type": "markdown",
      "metadata": {
        "id": "tuCnKXku8SCF"
      },
      "source": [
        "\n",
        "# **Exploring and Summarizing Data**\n",
        "\n",
        "\n",
        "Another important step in analysis is basic data summarization and exploration. Before we move on to any kind of statistical analysis or fancy machine learning, we must spend time with our data so we know their limits, their ability to give business insights by themselves, and their ability to be used in down stream modeling. Many times basic exploratory analysis is enough to satisfy our need to answer a business question — we shouldn't think that we always have to do fancy statistical analysis or machine learning to keep our jobs! \n",
        "\n",
        "In this section we'll work with the cleaned set of data we made in the \"Wrangling Data\" lesson. We'll highlight some basic data summarization and exploration techniques, and show how to export our analyses/results into files that we can ship to stakeholders or use for ourselves as a part of a grander analysis. \n",
        "\n",
        "##### Note:\n",
        "\n",
        "`#` in the code blocks below denotes a comment that I have added for you to better understand what the code is saying/doing."
      ]
    },
    {
      "cell_type": "markdown",
      "metadata": {
        "id": "GrstU_wB8SCI"
      },
      "source": [
        "\n",
        "\n",
        "\n",
        "# **Preparation and loading in data for this exercise**\n",
        "\n",
        "#### First, like the beginning of any Python script, we need to import certain code libraries that will help us do our work. \n",
        "\n",
        "The two libraries we will use in this exercise are pandas (`pd`) and numpy (`np`). "
      ]
    },
    {
      "cell_type": "code",
      "metadata": {
        "id": "i_Dh3l2T8SCJ",
        "colab": {
          "base_uri": "https://localhost:8080/"
        },
        "outputId": "13264171-2adc-41e4-8e53-356ba820e6cd"
      },
      "source": [
        "import pandas as pd\n",
        "import numpy as np\n",
        "\n",
        "#we will also need to access our google drive\n",
        "from google.colab import drive\n",
        "drive.mount('drive')"
      ],
      "execution_count": null,
      "outputs": [
        {
          "output_type": "stream",
          "text": [
            "Mounted at drive\n"
          ],
          "name": "stdout"
        }
      ]
    },
    {
      "cell_type": "markdown",
      "metadata": {
        "id": "ekz8zaVP8SCN"
      },
      "source": [
        "Next, let's load in our raw example data"
      ]
    },
    {
      "cell_type": "code",
      "metadata": {
        "id": "_D_KDVWl8SCO"
      },
      "source": [
        "dat = pd.read_csv('drive/My Drive/Python for HCM Datasets from Lessons/combined_data_for_analysis.csv') \n",
        "\n",
        "#read in CSV data and assign it to \n",
        "#an object we're calling \"dat\"\n",
        "#remember that we can also read in excel files with pd.read_excel() \n",
        "#and even specify the sheet name by pd.read_excel(sheetname='name_of_the_sheet')\n",
        "\n",
        "#note that we are using a google drive link to read in data-- this is the same \"combined_data_for_analysis.csv\" file in the 'exported_datasets_from_lessons' folder!\n"
      ],
      "execution_count": null,
      "outputs": []
    },
    {
      "cell_type": "markdown",
      "metadata": {
        "id": "wWm1EwVfGVYM"
      },
      "source": [
        "Then, we will take a look at the data\n",
        "\n",
        "Let's get a sense of what the data look like using the `head` method"
      ]
    },
    {
      "cell_type": "code",
      "metadata": {
        "id": "ySUWOhTgGgqD"
      },
      "source": [
        "dat.head()"
      ],
      "execution_count": null,
      "outputs": []
    },
    {
      "cell_type": "markdown",
      "metadata": {
        "id": "iLpOqXhxIXxE"
      },
      "source": [
        "# **Basic methods for summarizing datasets**\n",
        "\n",
        "Pandas series are able to be manipulated in a variety of ways (depending on their type) very quickly and conveniently with a variety of methods."
      ]
    },
    {
      "cell_type": "markdown",
      "metadata": {
        "id": "zmy98n5MTdYe"
      },
      "source": [
        "### **Numeric Data**"
      ]
    },
    {
      "cell_type": "markdown",
      "metadata": {
        "id": "Z9xD-xjBJ7FB"
      },
      "source": [
        "#### **Averages**\n",
        "\n",
        "To calculate an average of a numeric series, we use the `mean` method."
      ]
    },
    {
      "cell_type": "code",
      "metadata": {
        "id": "-0UnV1y0Lr7w",
        "colab": {
          "base_uri": "https://localhost:8080/"
        },
        "outputId": "f017fc12-4529-475f-9ea1-89fcb9d7ee12"
      },
      "source": [
        "#what's the average tenure at Widgetcorp?\n",
        "\n",
        "dat['Tenure'].mean()"
      ],
      "execution_count": null,
      "outputs": [
        {
          "output_type": "execute_result",
          "data": {
            "text/plain": [
              "5.359137020491517"
            ]
          },
          "metadata": {
            "tags": []
          },
          "execution_count": 5
        }
      ]
    },
    {
      "cell_type": "markdown",
      "metadata": {
        "id": "N8NVf8VIL3Iy"
      },
      "source": [
        "#### **Range (min and max)**\n",
        "\n",
        "To calculate an range of a numeric series, we use the `range` method."
      ]
    },
    {
      "cell_type": "code",
      "metadata": {
        "id": "CirLPGmzL9s5",
        "colab": {
          "base_uri": "https://localhost:8080/"
        },
        "outputId": "b9305e36-b74e-43ba-89c8-63cf82f27b15"
      },
      "source": [
        "#what's the minimum and maxiumum tenure at Widgetcorp?\n",
        "#to make this easy to see, we will save the values to variables that we will\n",
        "#call in a dictionary objecct below\n",
        "\n",
        "minimum_tenure=dat['Tenure'].min()\n",
        "\n",
        "maximum_tenure=dat['Tenure'].max()\n",
        "\n",
        "\n",
        "{'WidgetCorp minimum tenure': round(minimum_tenure,3),\n",
        " 'WidgetCorp maximum tenure': round(maximum_tenure,3)}"
      ],
      "execution_count": null,
      "outputs": [
        {
          "output_type": "execute_result",
          "data": {
            "text/plain": [
              "{'WidgetCorp maximum tenure': 11.916, 'WidgetCorp minimum tenure': 0.85}"
            ]
          },
          "metadata": {
            "tags": []
          },
          "execution_count": 6
        }
      ]
    },
    {
      "cell_type": "markdown",
      "metadata": {
        "id": "Uu3Fz2ym8SCU"
      },
      "source": [
        "\n",
        "#### **The `describe` method**\n",
        "\n",
        "Sometimes, we want a dump of all summary statistics for all of the data that is in our dataset. We can do this quickly using the describe method for numeric data.\n"
      ]
    },
    {
      "cell_type": "code",
      "metadata": {
        "scrolled": true,
        "id": "ZB2bUr698SCU",
        "colab": {
          "base_uri": "https://localhost:8080/",
          "height": 297
        },
        "outputId": "dcf6abcb-f732-4671-d645-75d353945a53"
      },
      "source": [
        "#we'll apply the describe method to examine all of the numeric variables \n",
        "dat.describe(include='number') "
      ],
      "execution_count": null,
      "outputs": [
        {
          "output_type": "execute_result",
          "data": {
            "text/html": [
              "<div>\n",
              "<style scoped>\n",
              "    .dataframe tbody tr th:only-of-type {\n",
              "        vertical-align: middle;\n",
              "    }\n",
              "\n",
              "    .dataframe tbody tr th {\n",
              "        vertical-align: top;\n",
              "    }\n",
              "\n",
              "    .dataframe thead th {\n",
              "        text-align: right;\n",
              "    }\n",
              "</style>\n",
              "<table border=\"1\" class=\"dataframe\">\n",
              "  <thead>\n",
              "    <tr style=\"text-align: right;\">\n",
              "      <th></th>\n",
              "      <th>Employee ID</th>\n",
              "      <th>Tenure</th>\n",
              "      <th>Pay Rate</th>\n",
              "      <th>Ethnicity</th>\n",
              "      <th>Annual Salary</th>\n",
              "      <th>Tenure_Today</th>\n",
              "    </tr>\n",
              "  </thead>\n",
              "  <tbody>\n",
              "    <tr>\n",
              "      <th>count</th>\n",
              "      <td>526.000000</td>\n",
              "      <td>526.000000</td>\n",
              "      <td>526.000000</td>\n",
              "      <td>526.000000</td>\n",
              "      <td>526.000000</td>\n",
              "      <td>526.000000</td>\n",
              "    </tr>\n",
              "    <tr>\n",
              "      <th>mean</th>\n",
              "      <td>491.150190</td>\n",
              "      <td>5.359137</td>\n",
              "      <td>40.673346</td>\n",
              "      <td>3.520913</td>\n",
              "      <td>84600.559696</td>\n",
              "      <td>7.252452</td>\n",
              "    </tr>\n",
              "    <tr>\n",
              "      <th>std</th>\n",
              "      <td>286.849438</td>\n",
              "      <td>1.884036</td>\n",
              "      <td>12.187930</td>\n",
              "      <td>1.725589</td>\n",
              "      <td>25350.894258</td>\n",
              "      <td>1.884209</td>\n",
              "    </tr>\n",
              "    <tr>\n",
              "      <th>min</th>\n",
              "      <td>2.000000</td>\n",
              "      <td>0.849914</td>\n",
              "      <td>22.370000</td>\n",
              "      <td>1.000000</td>\n",
              "      <td>46529.600000</td>\n",
              "      <td>2.740000</td>\n",
              "    </tr>\n",
              "    <tr>\n",
              "      <th>25%</th>\n",
              "      <td>242.500000</td>\n",
              "      <td>4.001824</td>\n",
              "      <td>31.545000</td>\n",
              "      <td>2.000000</td>\n",
              "      <td>65613.600000</td>\n",
              "      <td>5.892500</td>\n",
              "    </tr>\n",
              "    <tr>\n",
              "      <th>50%</th>\n",
              "      <td>489.500000</td>\n",
              "      <td>5.175905</td>\n",
              "      <td>37.725000</td>\n",
              "      <td>4.000000</td>\n",
              "      <td>78468.000000</td>\n",
              "      <td>7.070000</td>\n",
              "    </tr>\n",
              "    <tr>\n",
              "      <th>75%</th>\n",
              "      <td>730.250000</td>\n",
              "      <td>6.451909</td>\n",
              "      <td>46.867500</td>\n",
              "      <td>5.000000</td>\n",
              "      <td>97484.400000</td>\n",
              "      <td>8.342500</td>\n",
              "    </tr>\n",
              "    <tr>\n",
              "      <th>max</th>\n",
              "      <td>1000.000000</td>\n",
              "      <td>11.915697</td>\n",
              "      <td>92.220000</td>\n",
              "      <td>6.000000</td>\n",
              "      <td>191817.600000</td>\n",
              "      <td>13.810000</td>\n",
              "    </tr>\n",
              "  </tbody>\n",
              "</table>\n",
              "</div>"
            ],
            "text/plain": [
              "       Employee ID      Tenure  ...  Annual Salary  Tenure_Today\n",
              "count   526.000000  526.000000  ...     526.000000    526.000000\n",
              "mean    491.150190    5.359137  ...   84600.559696      7.252452\n",
              "std     286.849438    1.884036  ...   25350.894258      1.884209\n",
              "min       2.000000    0.849914  ...   46529.600000      2.740000\n",
              "25%     242.500000    4.001824  ...   65613.600000      5.892500\n",
              "50%     489.500000    5.175905  ...   78468.000000      7.070000\n",
              "75%     730.250000    6.451909  ...   97484.400000      8.342500\n",
              "max    1000.000000   11.915697  ...  191817.600000     13.810000\n",
              "\n",
              "[8 rows x 6 columns]"
            ]
          },
          "metadata": {
            "tags": []
          },
          "execution_count": 7
        }
      ]
    },
    {
      "cell_type": "markdown",
      "metadata": {
        "id": "09fByUyfTmSE"
      },
      "source": [
        "## **Categorical Data**\n",
        "\n",
        "Since we can't take averages of things that are categorical (such as department, job level, etc.), we need to summarize that data in a different way. Here are some common operations for that:"
      ]
    },
    {
      "cell_type": "markdown",
      "metadata": {
        "id": "TfAUBTE5WEU2"
      },
      "source": [
        "### **Unique Values**\n",
        "\n",
        "Sometimes we just want to know the names of all of the categories we have in our data.\n",
        "\n",
        "For example, at WidgetCorp, what are the different job levels?\n",
        "\n",
        "For this we use, the `.unqiue()` method.\n"
      ]
    },
    {
      "cell_type": "code",
      "metadata": {
        "id": "VSEMCMtsWOUM",
        "colab": {
          "base_uri": "https://localhost:8080/"
        },
        "outputId": "e137ed28-0328-43c7-bc61-58b1f43e9cca"
      },
      "source": [
        "dat['Job Level'].unique()"
      ],
      "execution_count": null,
      "outputs": [
        {
          "output_type": "execute_result",
          "data": {
            "text/plain": [
              "array(['Associate', 'VP', 'Analyst', 'Executive', 'Director', 'Manager'],\n",
              "      dtype=object)"
            ]
          },
          "metadata": {
            "tags": []
          },
          "execution_count": 8
        }
      ]
    },
    {
      "cell_type": "markdown",
      "metadata": {
        "id": "yQ_ioaiZVmcv"
      },
      "source": [
        "### **Counts**\n",
        "\n",
        "How many people are in each department? We can use the `.value_counts()` method for this."
      ]
    },
    {
      "cell_type": "code",
      "metadata": {
        "id": "4tsFrs77Vvjh",
        "colab": {
          "base_uri": "https://localhost:8080/"
        },
        "outputId": "60ba6f6f-a279-4152-b6c4-78f99c34aaf9"
      },
      "source": [
        "dat['Department'].value_counts()"
      ],
      "execution_count": null,
      "outputs": [
        {
          "output_type": "execute_result",
          "data": {
            "text/plain": [
              "Sales          96\n",
              "Engineering    92\n",
              "Operations     68\n",
              "Marketing      66\n",
              "Procurement    54\n",
              "IT/IS          42\n",
              "Design         35\n",
              "HR             24\n",
              "Finance        19\n",
              "Legal          12\n",
              "Complaince     10\n",
              "Executive       8\n",
              "Name: Department, dtype: int64"
            ]
          },
          "metadata": {
            "tags": []
          },
          "execution_count": 9
        }
      ]
    },
    {
      "cell_type": "markdown",
      "metadata": {
        "id": "03Dv9hKsX7e_"
      },
      "source": [
        "### **Modes**\n",
        "\n",
        "What is the most Edcuation attainment level in my dataset? We can use the `.mode()` method in Pandas for this."
      ]
    },
    {
      "cell_type": "code",
      "metadata": {
        "id": "Yx6qIFHfYA_g",
        "colab": {
          "base_uri": "https://localhost:8080/"
        },
        "outputId": "be0d8b0b-4dca-48f0-ffb2-a23da05abf2d"
      },
      "source": [
        "dat['Education'].mode()"
      ],
      "execution_count": null,
      "outputs": [
        {
          "output_type": "execute_result",
          "data": {
            "text/plain": [
              "0    Some College\n",
              "dtype: object"
            ]
          },
          "metadata": {
            "tags": []
          },
          "execution_count": 10
        }
      ]
    },
    {
      "cell_type": "markdown",
      "metadata": {
        "id": "x1RE4nXlVBZb"
      },
      "source": [
        "\n",
        "### **The `describe` method**\n",
        "\n",
        "Just like we would do for numeric data to provide many summary statistics for our data in one spot, we use the `describe` method, but we tell it to only run the statistics for `object` columns (or data that aren't numeric). \n",
        "\n"
      ]
    },
    {
      "cell_type": "code",
      "metadata": {
        "scrolled": true,
        "id": "t4PvyJR8VGE1",
        "colab": {
          "base_uri": "https://localhost:8080/",
          "height": 224
        },
        "outputId": "b6685fb9-158c-42be-aaea-2de87ff399fc"
      },
      "source": [
        "#we'll apply the describe method to examine all of the categorical variables -- which recall from our previous \n",
        "#lesson is described as an `object` in Pandas\n",
        "dat.describe(include='object') "
      ],
      "execution_count": null,
      "outputs": [
        {
          "output_type": "execute_result",
          "data": {
            "text/html": [
              "<div>\n",
              "<style scoped>\n",
              "    .dataframe tbody tr th:only-of-type {\n",
              "        vertical-align: middle;\n",
              "    }\n",
              "\n",
              "    .dataframe tbody tr th {\n",
              "        vertical-align: top;\n",
              "    }\n",
              "\n",
              "    .dataframe thead th {\n",
              "        text-align: right;\n",
              "    }\n",
              "</style>\n",
              "<table border=\"1\" class=\"dataframe\">\n",
              "  <thead>\n",
              "    <tr style=\"text-align: right;\">\n",
              "      <th></th>\n",
              "      <th>First Name</th>\n",
              "      <th>Last Name</th>\n",
              "      <th>Email Address</th>\n",
              "      <th>Department</th>\n",
              "      <th>Job Level</th>\n",
              "      <th>Gender</th>\n",
              "      <th>Tenure Date</th>\n",
              "      <th>Report Effective Date</th>\n",
              "      <th>Status</th>\n",
              "      <th>Education</th>\n",
              "    </tr>\n",
              "  </thead>\n",
              "  <tbody>\n",
              "    <tr>\n",
              "      <th>count</th>\n",
              "      <td>526</td>\n",
              "      <td>526</td>\n",
              "      <td>526</td>\n",
              "      <td>526</td>\n",
              "      <td>526</td>\n",
              "      <td>526</td>\n",
              "      <td>526</td>\n",
              "      <td>526</td>\n",
              "      <td>526</td>\n",
              "      <td>526</td>\n",
              "    </tr>\n",
              "    <tr>\n",
              "      <th>unique</th>\n",
              "      <td>429</td>\n",
              "      <td>470</td>\n",
              "      <td>526</td>\n",
              "      <td>12</td>\n",
              "      <td>6</td>\n",
              "      <td>2</td>\n",
              "      <td>477</td>\n",
              "      <td>1</td>\n",
              "      <td>1</td>\n",
              "      <td>5</td>\n",
              "    </tr>\n",
              "    <tr>\n",
              "      <th>top</th>\n",
              "      <td>Matthew</td>\n",
              "      <td>Smith</td>\n",
              "      <td>aaron.aviado@widgetcorp.com</td>\n",
              "      <td>Sales</td>\n",
              "      <td>Analyst</td>\n",
              "      <td>Male</td>\n",
              "      <td>2014-10-29</td>\n",
              "      <td>2018-12-31</td>\n",
              "      <td>Active</td>\n",
              "      <td>Some College</td>\n",
              "    </tr>\n",
              "    <tr>\n",
              "      <th>freq</th>\n",
              "      <td>6</td>\n",
              "      <td>4</td>\n",
              "      <td>1</td>\n",
              "      <td>96</td>\n",
              "      <td>169</td>\n",
              "      <td>278</td>\n",
              "      <td>4</td>\n",
              "      <td>526</td>\n",
              "      <td>526</td>\n",
              "      <td>164</td>\n",
              "    </tr>\n",
              "  </tbody>\n",
              "</table>\n",
              "</div>"
            ],
            "text/plain": [
              "       First Name Last Name  ...  Status     Education\n",
              "count         526       526  ...     526           526\n",
              "unique        429       470  ...       1             5\n",
              "top       Matthew     Smith  ...  Active  Some College\n",
              "freq            6         4  ...     526           164\n",
              "\n",
              "[4 rows x 10 columns]"
            ]
          },
          "metadata": {
            "tags": []
          },
          "execution_count": 11
        }
      ]
    },
    {
      "cell_type": "markdown",
      "metadata": {
        "id": "_SF-KK4M8SCZ"
      },
      "source": [
        "\n",
        "\n",
        "\n",
        "# **Exploring the data by groups**\n",
        "\n",
        "In the previous section, we applied the `value_counts` method to a specific column in our dataset, which allowed us to see the number of records associated with a particular value in the `Department` variable. \n",
        "\n",
        "Pandas also has an extremely useful method called `groupby` which, as the name suggests, creates groups based on the variable(s) you pass to it. You can then quickly add another method after the `groupby` method that calculates some information over groups, or does other kinds of operations. __[Read more about groupby in pandas here.](https://www.tutorialspoint.com/python_pandas/python_pandas_groupby.htm)__\n",
        "\n",
        "Headcount is a frequenlty requested chunk of information both for reporting and for analytical purposes. As analysts, we frequently slice and dice data to get a very specific look at a number of populations. \n",
        "\n",
        "Let's get a few different kinds of headcount with our cleaned example data."
      ]
    },
    {
      "cell_type": "code",
      "metadata": {
        "id": "RwTMLDge8SCZ",
        "colab": {
          "base_uri": "https://localhost:8080/"
        },
        "outputId": "54118e3a-29c1-4d0c-c3ac-5f5b026061b9"
      },
      "source": [
        "#Let's start with headcount by department\n",
        "#We use the .size method here to do a count of the records \n",
        "#we'll assign it to an object called department_count\n",
        "\n",
        "department_count = dat.groupby('Department').size()\n",
        "\n",
        "department_count"
      ],
      "execution_count": null,
      "outputs": [
        {
          "output_type": "execute_result",
          "data": {
            "text/plain": [
              "Department\n",
              "Complaince     10\n",
              "Design         35\n",
              "Engineering    92\n",
              "Executive       8\n",
              "Finance        19\n",
              "HR             24\n",
              "IT/IS          42\n",
              "Legal          12\n",
              "Marketing      66\n",
              "Operations     68\n",
              "Procurement    54\n",
              "Sales          96\n",
              "dtype: int64"
            ]
          },
          "metadata": {
            "tags": []
          },
          "execution_count": 12
        }
      ]
    },
    {
      "cell_type": "code",
      "metadata": {
        "id": "FpWg_jH18SCc",
        "colab": {
          "base_uri": "https://localhost:8080/"
        },
        "outputId": "837f0ac3-a89a-4e08-e215-ea3ca3fac71d"
      },
      "source": [
        "#Now let's get department AND Job Level; note we have to give groupby a list since we have more than one column we're making groups over\n",
        "department_job_level_count = dat.groupby(['Department','Job Level']).size() \n",
        "\n",
        "department_job_level_count"
      ],
      "execution_count": null,
      "outputs": [
        {
          "output_type": "execute_result",
          "data": {
            "text/plain": [
              "Department   Job Level\n",
              "Complaince   Analyst       6\n",
              "             Associate     3\n",
              "             VP            1\n",
              "Design       Analyst       9\n",
              "             Associate    11\n",
              "             Director      5\n",
              "             Executive     2\n",
              "             Manager       7\n",
              "             VP            1\n",
              "Engineering  Analyst      33\n",
              "             Associate    26\n",
              "             Director      7\n",
              "             Executive     4\n",
              "             Manager      15\n",
              "             VP            7\n",
              "Executive    Analyst       4\n",
              "             Manager       2\n",
              "             VP            2\n",
              "Finance      Analyst       6\n",
              "             Associate     9\n",
              "             Director      3\n",
              "             Manager       1\n",
              "HR           Analyst       6\n",
              "             Associate    10\n",
              "             Director      2\n",
              "             Manager       3\n",
              "             VP            3\n",
              "IT/IS        Analyst      10\n",
              "             Associate    14\n",
              "             Director      5\n",
              "             Executive     1\n",
              "             Manager      11\n",
              "             VP            1\n",
              "Legal        Analyst       5\n",
              "             Associate     3\n",
              "             Executive     1\n",
              "             Manager       3\n",
              "Marketing    Analyst      20\n",
              "             Associate    16\n",
              "             Director      7\n",
              "             Manager      14\n",
              "             VP            9\n",
              "Operations   Analyst      26\n",
              "             Associate    19\n",
              "             Director      4\n",
              "             Executive     2\n",
              "             Manager      16\n",
              "             VP            1\n",
              "Procurement  Analyst      15\n",
              "             Associate    18\n",
              "             Director      2\n",
              "             Executive     3\n",
              "             Manager      11\n",
              "             VP            5\n",
              "Sales        Analyst      29\n",
              "             Associate    27\n",
              "             Director     12\n",
              "             Executive     2\n",
              "             Manager      19\n",
              "             VP            7\n",
              "dtype: int64"
            ]
          },
          "metadata": {
            "tags": []
          },
          "execution_count": 13
        }
      ]
    },
    {
      "cell_type": "markdown",
      "metadata": {
        "id": "ai8My9ZI8SCf"
      },
      "source": [
        "\n",
        "\n",
        "\n",
        "## **Calculating averages, medians, and other statistics by groups**\n",
        "\n",
        "As mentioned above, we can simply add another method after the `groupby` method to get a certain metric we want. \n",
        "\n",
        "Let's start by calculating median tenure for each department. \n",
        "\n"
      ]
    },
    {
      "cell_type": "code",
      "metadata": {
        "id": "5wQI5jDj8SCg",
        "colab": {
          "base_uri": "https://localhost:8080/"
        },
        "outputId": "efdc0990-8f2f-4122-f386-70920a378597"
      },
      "source": [
        "#Like the above, we'll first group by state, but since the variable we care about is tenure,\n",
        "#we'll need to specify it after the groupby method\n",
        "#then assign it to an object called deparment_median_tenures\n",
        "\n",
        "deparment_median_tenures = dat.groupby(['Department','Job Level'])['Tenure'].median() \n",
        "\n",
        "deparment_median_tenures # we can see that Marketing has the highest median tenure"
      ],
      "execution_count": null,
      "outputs": [
        {
          "output_type": "execute_result",
          "data": {
            "text/plain": [
              "Department   Job Level\n",
              "Complaince   Analyst       3.723778\n",
              "             Associate     4.894980\n",
              "             VP            7.400493\n",
              "Design       Analyst       3.911450\n",
              "             Associate     4.872070\n",
              "             Director      8.694525\n",
              "             Executive     9.836971\n",
              "             Manager       6.191378\n",
              "             VP            6.402611\n",
              "Engineering  Analyst       3.554324\n",
              "             Associate     5.157235\n",
              "             Director      7.166359\n",
              "             Executive    10.484115\n",
              "             Manager       6.301936\n",
              "             VP            9.124182\n",
              "Executive    Analyst       3.574169\n",
              "             Manager       5.650496\n",
              "             VP            7.862658\n",
              "Finance      Analyst       4.691324\n",
              "             Associate     4.542251\n",
              "             Director      7.491096\n",
              "             Manager       5.522333\n",
              "HR           Analyst       3.424249\n",
              "             Associate     4.550420\n",
              "             Director      7.825582\n",
              "             Manager       6.098291\n",
              "             VP            6.926572\n",
              "IT/IS        Analyst       3.867714\n",
              "             Associate     5.415214\n",
              "             Director      5.986735\n",
              "             Executive     7.463804\n",
              "             Manager       6.429438\n",
              "             VP            6.850524\n",
              "Legal        Analyst       4.007917\n",
              "             Associate     5.828233\n",
              "             Executive     8.672599\n",
              "             Manager       5.000910\n",
              "Marketing    Analyst       4.083034\n",
              "             Associate     4.643197\n",
              "             Director      8.103059\n",
              "             Manager       6.033202\n",
              "             VP            8.813922\n",
              "Operations   Analyst       4.241775\n",
              "             Associate     5.265517\n",
              "             Director      6.735946\n",
              "             Executive     9.734801\n",
              "             Manager       5.916554\n",
              "             VP            9.665948\n",
              "Procurement  Analyst       4.264875\n",
              "             Associate     5.006106\n",
              "             Director      7.155016\n",
              "             Executive     8.423632\n",
              "             Manager       5.064941\n",
              "             VP            8.307313\n",
              "Sales        Analyst       3.834650\n",
              "             Associate     4.993435\n",
              "             Director      7.233460\n",
              "             Executive    10.853122\n",
              "             Manager       6.060623\n",
              "             VP            7.138731\n",
              "Name: Tenure, dtype: float64"
            ]
          },
          "metadata": {
            "tags": []
          },
          "execution_count": 14
        }
      ]
    },
    {
      "cell_type": "markdown",
      "metadata": {
        "id": "JeJQJKr_8SCk"
      },
      "source": [
        "Sometimes we want to put multiple sets of statistics side-by-side. `pd.pivot_table` is a good way to make this happen. __[Read more about pivot tables in pandas here](https://pandas.pydata.org/pandas-docs/stable/reference/api/pandas.pivot_table.html)__. Just like the name suggests, it works like a pivot talbe in excel. We could have run `pd.pivot_table` in the examples above (instead of using a `.groupby` method), as well."
      ]
    },
    {
      "cell_type": "code",
      "metadata": {
        "id": "vIQ3shgQ8SCm",
        "colab": {
          "base_uri": "https://localhost:8080/",
          "height": 297
        },
        "outputId": "5c52c76a-9811-46c9-adad-5c82dd6539fa"
      },
      "source": [
        "#let's put the mean, median, and standard deviation side by side for Tenure by Job LEvel\n",
        "\n",
        "tenure_pivot=pd.pivot_table(dat, #tell it what data you want to pivot on\n",
        "                         values='Tenure', #what values should be considered\n",
        "                         index='Job Level', #what the values should be grouped over\n",
        "                         aggfunc=[np.mean,np.median,np.std])  #a list of base python +  numpy (np) functions that \n",
        "                                                                  #will calculate our summary stats [mean, \n",
        "                                                                  #median, standard deviation (respectively)]\n",
        "        \n",
        "tenure_pivot"
      ],
      "execution_count": null,
      "outputs": [
        {
          "output_type": "execute_result",
          "data": {
            "text/html": [
              "<div>\n",
              "<style scoped>\n",
              "    .dataframe tbody tr th:only-of-type {\n",
              "        vertical-align: middle;\n",
              "    }\n",
              "\n",
              "    .dataframe tbody tr th {\n",
              "        vertical-align: top;\n",
              "    }\n",
              "\n",
              "    .dataframe thead tr th {\n",
              "        text-align: left;\n",
              "    }\n",
              "\n",
              "    .dataframe thead tr:last-of-type th {\n",
              "        text-align: right;\n",
              "    }\n",
              "</style>\n",
              "<table border=\"1\" class=\"dataframe\">\n",
              "  <thead>\n",
              "    <tr>\n",
              "      <th></th>\n",
              "      <th>mean</th>\n",
              "      <th>median</th>\n",
              "      <th>std</th>\n",
              "    </tr>\n",
              "    <tr>\n",
              "      <th></th>\n",
              "      <th>Tenure</th>\n",
              "      <th>Tenure</th>\n",
              "      <th>Tenure</th>\n",
              "    </tr>\n",
              "    <tr>\n",
              "      <th>Job Level</th>\n",
              "      <th></th>\n",
              "      <th></th>\n",
              "      <th></th>\n",
              "    </tr>\n",
              "  </thead>\n",
              "  <tbody>\n",
              "    <tr>\n",
              "      <th>Analyst</th>\n",
              "      <td>3.883526</td>\n",
              "      <td>3.832770</td>\n",
              "      <td>1.168013</td>\n",
              "    </tr>\n",
              "    <tr>\n",
              "      <th>Associate</th>\n",
              "      <td>4.965184</td>\n",
              "      <td>5.049577</td>\n",
              "      <td>1.101015</td>\n",
              "    </tr>\n",
              "    <tr>\n",
              "      <th>Director</th>\n",
              "      <td>7.181803</td>\n",
              "      <td>7.234633</td>\n",
              "      <td>1.288165</td>\n",
              "    </tr>\n",
              "    <tr>\n",
              "      <th>Executive</th>\n",
              "      <td>9.634831</td>\n",
              "      <td>9.790547</td>\n",
              "      <td>1.218140</td>\n",
              "    </tr>\n",
              "    <tr>\n",
              "      <th>Manager</th>\n",
              "      <td>5.936964</td>\n",
              "      <td>5.901501</td>\n",
              "      <td>1.153419</td>\n",
              "    </tr>\n",
              "    <tr>\n",
              "      <th>VP</th>\n",
              "      <td>8.118483</td>\n",
              "      <td>8.087039</td>\n",
              "      <td>1.459061</td>\n",
              "    </tr>\n",
              "  </tbody>\n",
              "</table>\n",
              "</div>"
            ],
            "text/plain": [
              "               mean    median       std\n",
              "             Tenure    Tenure    Tenure\n",
              "Job Level                              \n",
              "Analyst    3.883526  3.832770  1.168013\n",
              "Associate  4.965184  5.049577  1.101015\n",
              "Director   7.181803  7.234633  1.288165\n",
              "Executive  9.634831  9.790547  1.218140\n",
              "Manager    5.936964  5.901501  1.153419\n",
              "VP         8.118483  8.087039  1.459061"
            ]
          },
          "metadata": {
            "tags": []
          },
          "execution_count": 15
        }
      ]
    },
    {
      "cell_type": "markdown",
      "metadata": {
        "id": "LgFvNRYi8SCp"
      },
      "source": [
        "\n",
        "\n",
        "\n",
        "# **Visualizing data from pandas dataframes**\n",
        "\n",
        "Pandas includes a variety of built-in visualization functions to help you further explore your data. __[Read more about visualizaing data in pandas here](https://pandas.pydata.org/pandas-docs/stable/user_guide/visualization.html)__.\n",
        "\n",
        "Suppose we want to expore the relationship between Tenure and Salary. Let's plot both variables separetely, and then together."
      ]
    },
    {
      "cell_type": "markdown",
      "metadata": {
        "id": "iJLvBdpWeP-6"
      },
      "source": [
        "### **Bar Charts**\n",
        "\n",
        "Barcharts are easy and straightforward to make in pandas using applying `plot.bar()` to your output."
      ]
    },
    {
      "cell_type": "code",
      "metadata": {
        "id": "d9zR2hiPeiAT"
      },
      "source": [
        "department_barchart=dat['Department'].value_counts().plot.bar()\n",
        "\n",
        "department_barchart.set_xlabel('Department') #set an x-axis label\n",
        "department_barchart.set_ylabel('Number of Employees') #set a y-axis label\n",
        "\n",
        "department_barchart"
      ],
      "execution_count": null,
      "outputs": []
    },
    {
      "cell_type": "code",
      "metadata": {
        "id": "Rg3njuQ7fMn9"
      },
      "source": [
        "#we can also use a groupby statement to make barcharts\n",
        "\n",
        "department_gender_barchart=dat.groupby('Gender')['Department'].value_counts().unstack(0).plot.bar() #note we need to unstack the dataframe to plot it correctly\n",
        "\n",
        "department_gender_barchart.set_xlabel('Department') #set an x-axis label\n",
        "department_gender_barchart.set_ylabel('Number of Employees') #set a y-axis label\n",
        "\n",
        "department_gender_barchart"
      ],
      "execution_count": null,
      "outputs": []
    },
    {
      "cell_type": "markdown",
      "metadata": {
        "id": "UYrH_YAEcWPH"
      },
      "source": [
        "### **Histograms**\n",
        "\n",
        "Histograms help us see the distribution of data. "
      ]
    },
    {
      "cell_type": "code",
      "metadata": {
        "id": "_kWBHz568SCq"
      },
      "source": [
        "tenure_plot = dat['Tenure'].hist() #we just apply the .hist method to denote that we want a histogram\n",
        "\n",
        "#set axis labels\n",
        "tenure_plot.set_xlabel('Tenure')\n",
        "tenure_plot.set_ylabel('Number of Employees')\n",
        "\n",
        "tenure_plot"
      ],
      "execution_count": null,
      "outputs": []
    },
    {
      "cell_type": "code",
      "metadata": {
        "id": "lxo09YQi8SCu"
      },
      "source": [
        "#We can also get a histogram by Job Level\n",
        "tenure_department_hist=dat['Tenure'].hist(by=dat['Job Level'],figsize=(10, 6))\n",
        "\n",
        "tenure_department_hist"
      ],
      "execution_count": null,
      "outputs": []
    },
    {
      "cell_type": "markdown",
      "metadata": {
        "id": "vS0VapH5guTv"
      },
      "source": [
        "### **Box and Whisker Plots**\n",
        "\n",
        "Box and whisker plots also tell us about the distributions of our data, but also give us important summary statistics in their markings. \n",
        "\n",
        "They also are useful tools to compare the distributions of two or more groups. "
      ]
    },
    {
      "cell_type": "code",
      "metadata": {
        "id": "xh_4ADToh0k1"
      },
      "source": [
        "tenure_boxplot=dat.boxplot(column='Tenure')\n",
        "\n",
        "#The box tells us the inter quartile range of the data\n",
        "#The stripe in the middle tells us the median of the data\n",
        "#The whiskers of the plot tell us range of the data (excluding outliers) = 1.5*(3rd Quartile - 1st Quartile)\n",
        "#The circles are outlier datapoints outside of the whiskers"
      ],
      "execution_count": null,
      "outputs": []
    },
    {
      "cell_type": "code",
      "metadata": {
        "id": "VN6Rfb7HjiiC"
      },
      "source": [
        "#By Group\n",
        "tenure_boxplot=dat.boxplot(column='Tenure',by='Department',figsize=(15,10),grid=False)\n",
        "\n",
        "#The box tells us the inter quartile range of the data\n",
        "#The stripe in the middle tells us the median of the data\n",
        "#The whiskers of the plot tell us range of the data (excluding outliers) = 1.5*(3rd Quartile - 1st Quartile)\n",
        "#The circles are outlier datapoints outside of the whiskers"
      ],
      "execution_count": null,
      "outputs": []
    },
    {
      "cell_type": "markdown",
      "metadata": {
        "id": "DpemjXXhhYr-"
      },
      "source": [
        "## **Scatter Plots**"
      ]
    },
    {
      "cell_type": "code",
      "metadata": {
        "id": "cppYj4IT8SC0"
      },
      "source": [
        "#Q: Is there a relationship between tenure and salary? Let's use a scatter plot to help us decide.\n",
        "\n",
        "dat.plot.scatter(x='Tenure', y='Annual Salary') #for this kind of plot, we need to put the .plot method first\n",
        "\n",
        "#A: it appears there is one, but we should do much more investigation before we come up with any kind of generalization!"
      ],
      "execution_count": null,
      "outputs": []
    },
    {
      "cell_type": "markdown",
      "metadata": {
        "id": "QcJInwGjlmB4"
      },
      "source": [
        "## **Line Charts**"
      ]
    },
    {
      "cell_type": "markdown",
      "metadata": {
        "id": "0QBmjcnRluK2"
      },
      "source": [
        "Line charts are useful to show how something changes over time."
      ]
    },
    {
      "cell_type": "code",
      "metadata": {
        "id": "qfguzAEWlpOe"
      },
      "source": [
        "# Since the data we have loaded in doesn't have a time compnent, we will first make a fake dataframe on attrition\n",
        "\n",
        "attrition_data=pd.DataFrame({'quarter':['2019Q1','2019Q2','2019Q3','2019Q4','2020Q1','2019Q2'],\n",
        "                             'vol_terms':[20,30,20,13,12,17],\n",
        "                             'average_hc':[200,187.2,192.2,185,174,180]})\n",
        "\n",
        "#divide terms by average head count, multiply by 100, and round to the nearest tenth\n",
        "attrition_data['Vol Terms Pct.']=np.round(attrition_data['vol_terms']/attrition_data['average_hc']*100,3)\n",
        "\n",
        "#now plot just the quarter for the X axis, and voluntary terms as the Y axis and save to an object called \n",
        "attrition_data.plot.line(x='quarter',y='Vol Terms Pct.')\n"
      ],
      "execution_count": null,
      "outputs": []
    },
    {
      "cell_type": "markdown",
      "metadata": {
        "id": "jeG-ouDhw4vd"
      },
      "source": [
        "### **Vertical and horizontal lines**\n",
        "\n",
        "We can also add a vertical line to our charts to mark an event that may have an influence on what we are analyzing. \n",
        "\n",
        "Horizontal lines can give us an idea of a datapoint relative to a certain level (such as an average or a range)."
      ]
    },
    {
      "cell_type": "code",
      "metadata": {
        "id": "GWsmhBu4xGHR"
      },
      "source": [
        "#let's start with an event marker (vertical line) for the start of the global COVID-19 pandemic\n",
        "\n",
        "import matplotlib.pyplot as plt #we'll need the matplot lib pyplot library for this to work well\n",
        "\n",
        "myplot=attrition_data.plot.line(x='quarter',y='Vol Terms Pct.') #make the same plot as above and save it to an object called 'myplot'\n",
        "myplot.axvline(x=attrition_data.loc[attrition_data['quarter']=='2020Q1'].index[0], # make the vertical line on observation # that matches 2020Q1\n",
        "            linewidth=0.75, #make the line sort of skinny\n",
        "            color='r', ) #make the line red\n",
        "\n",
        "myplot.text(x=attrition_data.loc[attrition_data['quarter']=='2020Q1'].index[0]*1.02, #x coordinate of text with a 2% offset\n",
        "            y=13, #y coordinate of text\n",
        "            s='COVID-19 \\nOnset', # text itself - the `\\n` makes the text go into two lines\n",
        "            color='r') #make the color red"
      ],
      "execution_count": null,
      "outputs": []
    },
    {
      "cell_type": "code",
      "metadata": {
        "id": "MOwU4mj150Uj"
      },
      "source": [
        "# now let's do a horizontal line  \n",
        "\n",
        "myplot=attrition_data.plot.line(x='quarter',y='Vol Terms Pct.') #make the same plot as above and save it to an object called 'myplot'\n",
        "myplot.axhline(y=attrition_data['Vol Terms Pct.'].mean(), # make the vertical line on observation # that matches 2020Q1\n",
        "            linewidth=0.75, #make the line sort of skinny\n",
        "            color='r', #make the line red\n",
        "            linestyle=':') #make line dotted\n",
        "\n",
        "myplot.text(y=attrition_data['Vol Terms Pct.'].mean()*1.02, #y coordinate of text to be average plus a 2% offset\n",
        "            x=3, #x coordinate of text\n",
        "            s='Attrition Period Average', #text itself\n",
        "            color='r') #make the color red"
      ],
      "execution_count": null,
      "outputs": []
    },
    {
      "cell_type": "markdown",
      "metadata": {
        "id": "7zrw173bBLFH"
      },
      "source": [
        ""
      ]
    },
    {
      "cell_type": "markdown",
      "metadata": {
        "id": "qqZBdKo98SC2"
      },
      "source": [
        "\n",
        "\n",
        "\n",
        "## **Other (more robust) visualizations and libraries for visualization**\n",
        "\n",
        "We have just scratched the surface of Python's visualization capabilities. \n",
        "\n",
        "Depending on the business problem you are trying to analyze, and the audience you are presenting findings to, you will need to rely on Pandas documentation, stack overflow, and other libraries to make the visualization to fit the need.\n",
        "\n",
        "Check out:\n",
        "\n",
        "__[Matplotlib](https://matplotlib.org)__ - a very rich, highly customizable library for data visualization\n",
        "<br>\n",
        "__[Seaborn](https://seaborn.pydata.org)__ - Based on matplotlib: clean and easy to make publication-ready visuals\n",
        "<br>\n",
        "__[Bokeh](https://bokeh.pydata.org/en/latest/)__ - produces interactive visuals\n"
      ]
    },
    {
      "cell_type": "markdown",
      "metadata": {
        "id": "kuxK9kkf8SC3"
      },
      "source": [
        "\n",
        "\n",
        "\n",
        "# **Save out the data tables from this exercise in a \"shippable\" format**\n",
        "\n",
        "Just like in previous sections, we can use the `.to_csv` method to export data to a CSV file. \n",
        "\n",
        "If you have reports or analyses you regularly run, you can export them in packaged excel workbooks. To do this we'll use the `ExcelWriter` method in pandas to bundle our worksheets together.\n",
        "\n",
        "#### Note: \n",
        "Ok, so when opening these excel files, you'll notice there could be some more fine tuning with the formatting. So you may not deem them shippable using the code in this exercise--so you may want to do a little more dressing up before you send to an HRBP or the CHRO :), but at least you know how exactly the data were generated and they were bundled together for you in one spot at the click of a button."
      ]
    },
    {
      "cell_type": "code",
      "metadata": {
        "id": "V2YyVgvP8SC4"
      },
      "source": [
        "#first, let's write out the data files\n",
        "\n",
        "\n",
        "#first make a writer object \n",
        "#that will assemble the worksheets in to one\n",
        "#single workbook\n",
        "writer = pd.ExcelWriter(path='drive/My Drive/Python for HCM Datasets from Lessons/Tenure and Department Report.xlsx') \n",
        "\n",
        "#now we specify which views we've put into this analysis into a bundled report, \n",
        "department_count.to_excel(writer,sheet_name='Headcount by Department')\n",
        "tenure_pivot.to_excel(writer,sheet_name='Tenure by Department')\n",
        "dat.to_excel(writer,sheet_name='Raw Data',index=False)\n",
        "\n",
        "writer.save()#now we're ready to save out the workbook"
      ],
      "execution_count": null,
      "outputs": []
    }
  ]
}
