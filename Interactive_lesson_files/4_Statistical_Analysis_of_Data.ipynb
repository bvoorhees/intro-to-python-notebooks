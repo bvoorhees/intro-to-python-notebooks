{
  "nbformat": 4,
  "nbformat_minor": 0,
  "metadata": {
    "colab": {
      "name": "4. Statistical Analysis of Data",
      "provenance": [],
      "collapsed_sections": [],
      "toc_visible": true
    },
    "kernelspec": {
      "name": "python3",
      "display_name": "Python 3"
    }
  },
  "cells": [
    {
      "cell_type": "markdown",
      "metadata": {
        "id": "TJDyztXkTo07"
      },
      "source": [
        "# **Statistical Analysis of Data**\n",
        "\n"
      ]
    },
    {
      "cell_type": "markdown",
      "metadata": {
        "id": "SIX7L5IATowO"
      },
      "source": [
        "\n",
        "# **Preparing data for this exercise**\n",
        "\n",
        "For this exercise, we will use a mix of fictious survey data from a WidgetCorp employee engagement survey.\n",
        "\n",
        "All widgetcorp employees were asked to rate the degree to which they agree with the following statements:\n",
        "\n",
        "1. I am proud to work for WidgetCorp.\n",
        "2. I would recommend WidgetCorp as a great place to work.\n",
        "3. I see myself still working at WidgetCorp in two years' time.\n",
        "4. Management at WidgetCorp knows what it takes to go above and beyond in the marketplace.\n",
        "5. The leaders at WidgetCorp have communicated a vision that motivates me to do my best at work.\n",
        "6. I have access to the resources I need to do my job well,\n",
        "7. I know what I need to do to be successful in my role.\n",
        "8. I believe there are good career opportunities for me at WidgetCorp. \n",
        "\n",
        "On a scale from 1 to 5 where: \n",
        "\n",
        "- 1 = Strongly Disagree\n",
        "- 2 = Disagree\n",
        "- 3 = Neutral \n",
        "- 4 = Agree\n",
        "- 5 = Strongly Agree\n",
        "\n",
        "\n",
        "#### Let's prepare our environment and look at our data:"
      ]
    },
    {
      "cell_type": "code",
      "metadata": {
        "id": "WbP0mZlXTk5N"
      },
      "source": [
        "import pandas as pd"
      ],
      "execution_count": null,
      "outputs": []
    },
    {
      "cell_type": "code",
      "metadata": {
        "id": "InD2KT9226hk",
        "colab": {
          "base_uri": "https://localhost:8080/"
        },
        "outputId": "533eb803-3201-45c9-bbc4-5a6ae43ea1d7"
      },
      "source": [
        "from google.colab import drive\n",
        "drive.mount('/content/drive')"
      ],
      "execution_count": null,
      "outputs": [
        {
          "output_type": "stream",
          "text": [
            "Drive already mounted at /content/drive; to attempt to forcibly remount, call drive.mount(\"/content/drive\", force_remount=True).\n"
          ],
          "name": "stdout"
        }
      ]
    },
    {
      "cell_type": "code",
      "metadata": {
        "id": "exFk1CkIomfH"
      },
      "source": [
        "#PLEASE make sure you have mounted your google drive by clicking on the folder icon on the left hand side of your screen (skinny menu column with icons only),\n",
        "#and then clicking on the google drive folder if you cannot see the word \"drive\" in the list of folders that appear"
      ],
      "execution_count": null,
      "outputs": []
    },
    {
      "cell_type": "code",
      "metadata": {
        "id": "fbtf162GtUWX"
      },
      "source": [
        "hcdata = pd.read_csv('drive/My Drive/Python for HCM Datasets from Lessons/combined_data_for_analysis.csv')\n",
        "\n",
        "\n",
        "surveydata= pd.read_csv('https://raw.githubusercontent.com/bvoorhees/code_and_data_for_the_people_analytics_enthusiast/master/employee_listening/data/survey.csv')"
      ],
      "execution_count": null,
      "outputs": []
    },
    {
      "cell_type": "code",
      "metadata": {
        "id": "ORyAuMUW19OT",
        "colab": {
          "base_uri": "https://localhost:8080/",
          "height": 343
        },
        "outputId": "de3d2854-c6f0-46fd-f522-aa79c24d965c"
      },
      "source": [
        "hcdata.head()"
      ],
      "execution_count": null,
      "outputs": [
        {
          "output_type": "execute_result",
          "data": {
            "text/html": [
              "<div>\n",
              "<style scoped>\n",
              "    .dataframe tbody tr th:only-of-type {\n",
              "        vertical-align: middle;\n",
              "    }\n",
              "\n",
              "    .dataframe tbody tr th {\n",
              "        vertical-align: top;\n",
              "    }\n",
              "\n",
              "    .dataframe thead th {\n",
              "        text-align: right;\n",
              "    }\n",
              "</style>\n",
              "<table border=\"1\" class=\"dataframe\">\n",
              "  <thead>\n",
              "    <tr style=\"text-align: right;\">\n",
              "      <th></th>\n",
              "      <th>Employee ID</th>\n",
              "      <th>First Name</th>\n",
              "      <th>Last Name</th>\n",
              "      <th>Email Address</th>\n",
              "      <th>Department</th>\n",
              "      <th>Job Level</th>\n",
              "      <th>Tenure</th>\n",
              "      <th>Pay Rate</th>\n",
              "      <th>Gender</th>\n",
              "      <th>Ethnicity</th>\n",
              "      <th>Tenure Date</th>\n",
              "      <th>Report Effective Date</th>\n",
              "      <th>Status</th>\n",
              "      <th>Annual Salary</th>\n",
              "      <th>Education</th>\n",
              "      <th>Tenure_Today</th>\n",
              "    </tr>\n",
              "  </thead>\n",
              "  <tbody>\n",
              "    <tr>\n",
              "      <th>0</th>\n",
              "      <td>427</td>\n",
              "      <td>Erik</td>\n",
              "      <td>Sanders</td>\n",
              "      <td>erik.sanders@widgetcorp.com</td>\n",
              "      <td>Complaince</td>\n",
              "      <td>Associate</td>\n",
              "      <td>4.894980</td>\n",
              "      <td>49.94</td>\n",
              "      <td>Male</td>\n",
              "      <td>4</td>\n",
              "      <td>2014-02-07</td>\n",
              "      <td>2018-12-31</td>\n",
              "      <td>Active</td>\n",
              "      <td>103875.2</td>\n",
              "      <td>Bachelor</td>\n",
              "      <td>6.79</td>\n",
              "    </tr>\n",
              "    <tr>\n",
              "      <th>1</th>\n",
              "      <td>848</td>\n",
              "      <td>Christina</td>\n",
              "      <td>Blaze</td>\n",
              "      <td>christina.blaze@widgetcorp.com</td>\n",
              "      <td>Complaince</td>\n",
              "      <td>VP</td>\n",
              "      <td>7.400493</td>\n",
              "      <td>48.62</td>\n",
              "      <td>Female</td>\n",
              "      <td>1</td>\n",
              "      <td>2011-08-06</td>\n",
              "      <td>2018-12-31</td>\n",
              "      <td>Active</td>\n",
              "      <td>101129.6</td>\n",
              "      <td>Some College</td>\n",
              "      <td>9.30</td>\n",
              "    </tr>\n",
              "    <tr>\n",
              "      <th>2</th>\n",
              "      <td>63</td>\n",
              "      <td>Drue</td>\n",
              "      <td>Hightower</td>\n",
              "      <td>drue.hightower@widgetcorp.com</td>\n",
              "      <td>Complaince</td>\n",
              "      <td>Associate</td>\n",
              "      <td>2.728467</td>\n",
              "      <td>37.87</td>\n",
              "      <td>Male</td>\n",
              "      <td>3</td>\n",
              "      <td>2016-04-08</td>\n",
              "      <td>2018-12-31</td>\n",
              "      <td>Active</td>\n",
              "      <td>78769.6</td>\n",
              "      <td>High School Diploma</td>\n",
              "      <td>4.62</td>\n",
              "    </tr>\n",
              "    <tr>\n",
              "      <th>3</th>\n",
              "      <td>305</td>\n",
              "      <td>Edgar</td>\n",
              "      <td>Lopez</td>\n",
              "      <td>edgar.lopez@widgetcorp.com</td>\n",
              "      <td>Complaince</td>\n",
              "      <td>Analyst</td>\n",
              "      <td>4.324053</td>\n",
              "      <td>37.33</td>\n",
              "      <td>Male</td>\n",
              "      <td>4</td>\n",
              "      <td>2014-09-03</td>\n",
              "      <td>2018-12-31</td>\n",
              "      <td>Active</td>\n",
              "      <td>77646.4</td>\n",
              "      <td>Some College</td>\n",
              "      <td>6.22</td>\n",
              "    </tr>\n",
              "    <tr>\n",
              "      <th>4</th>\n",
              "      <td>513</td>\n",
              "      <td>Marianne</td>\n",
              "      <td>Rem</td>\n",
              "      <td>marianne.rem@widgetcorp.com</td>\n",
              "      <td>Complaince</td>\n",
              "      <td>Associate</td>\n",
              "      <td>5.307411</td>\n",
              "      <td>34.07</td>\n",
              "      <td>Female</td>\n",
              "      <td>2</td>\n",
              "      <td>2013-09-09</td>\n",
              "      <td>2018-12-31</td>\n",
              "      <td>Active</td>\n",
              "      <td>70865.6</td>\n",
              "      <td>Master</td>\n",
              "      <td>7.20</td>\n",
              "    </tr>\n",
              "  </tbody>\n",
              "</table>\n",
              "</div>"
            ],
            "text/plain": [
              "   Employee ID First Name  ...            Education Tenure_Today\n",
              "0          427       Erik  ...             Bachelor         6.79\n",
              "1          848  Christina  ...         Some College         9.30\n",
              "2           63       Drue  ...  High School Diploma         4.62\n",
              "3          305      Edgar  ...         Some College         6.22\n",
              "4          513   Marianne  ...               Master         7.20\n",
              "\n",
              "[5 rows x 16 columns]"
            ]
          },
          "metadata": {
            "tags": []
          },
          "execution_count": 10
        }
      ]
    },
    {
      "cell_type": "code",
      "metadata": {
        "id": "_89iK3uKtp54",
        "colab": {
          "base_uri": "https://localhost:8080/",
          "height": 204
        },
        "outputId": "0c79492d-3c51-4e3c-c50d-d88cb9603057"
      },
      "source": [
        "surveydata.head()"
      ],
      "execution_count": null,
      "outputs": [
        {
          "output_type": "execute_result",
          "data": {
            "text/html": [
              "<div>\n",
              "<style scoped>\n",
              "    .dataframe tbody tr th:only-of-type {\n",
              "        vertical-align: middle;\n",
              "    }\n",
              "\n",
              "    .dataframe tbody tr th {\n",
              "        vertical-align: top;\n",
              "    }\n",
              "\n",
              "    .dataframe thead th {\n",
              "        text-align: right;\n",
              "    }\n",
              "</style>\n",
              "<table border=\"1\" class=\"dataframe\">\n",
              "  <thead>\n",
              "    <tr style=\"text-align: right;\">\n",
              "      <th></th>\n",
              "      <th>Employee Number</th>\n",
              "      <th>Q1</th>\n",
              "      <th>Q2</th>\n",
              "      <th>Q3</th>\n",
              "      <th>Q4</th>\n",
              "      <th>Q5</th>\n",
              "      <th>Q6</th>\n",
              "      <th>Q7</th>\n",
              "      <th>Q8</th>\n",
              "    </tr>\n",
              "  </thead>\n",
              "  <tbody>\n",
              "    <tr>\n",
              "      <th>0</th>\n",
              "      <td>9</td>\n",
              "      <td>4</td>\n",
              "      <td>4</td>\n",
              "      <td>3</td>\n",
              "      <td>4</td>\n",
              "      <td>3</td>\n",
              "      <td>3</td>\n",
              "      <td>1</td>\n",
              "      <td>2</td>\n",
              "    </tr>\n",
              "    <tr>\n",
              "      <th>1</th>\n",
              "      <td>47</td>\n",
              "      <td>5</td>\n",
              "      <td>5</td>\n",
              "      <td>5</td>\n",
              "      <td>5</td>\n",
              "      <td>3</td>\n",
              "      <td>5</td>\n",
              "      <td>1</td>\n",
              "      <td>1</td>\n",
              "    </tr>\n",
              "    <tr>\n",
              "      <th>2</th>\n",
              "      <td>70</td>\n",
              "      <td>4</td>\n",
              "      <td>5</td>\n",
              "      <td>2</td>\n",
              "      <td>3</td>\n",
              "      <td>4</td>\n",
              "      <td>3</td>\n",
              "      <td>2</td>\n",
              "      <td>2</td>\n",
              "    </tr>\n",
              "    <tr>\n",
              "      <th>3</th>\n",
              "      <td>292</td>\n",
              "      <td>5</td>\n",
              "      <td>5</td>\n",
              "      <td>5</td>\n",
              "      <td>5</td>\n",
              "      <td>3</td>\n",
              "      <td>3</td>\n",
              "      <td>2</td>\n",
              "      <td>3</td>\n",
              "    </tr>\n",
              "    <tr>\n",
              "      <th>4</th>\n",
              "      <td>324</td>\n",
              "      <td>3</td>\n",
              "      <td>3</td>\n",
              "      <td>3</td>\n",
              "      <td>4</td>\n",
              "      <td>4</td>\n",
              "      <td>2</td>\n",
              "      <td>2</td>\n",
              "      <td>3</td>\n",
              "    </tr>\n",
              "  </tbody>\n",
              "</table>\n",
              "</div>"
            ],
            "text/plain": [
              "   Employee Number  Q1  Q2  Q3  Q4  Q5  Q6  Q7  Q8\n",
              "0                9   4   4   3   4   3   3   1   2\n",
              "1               47   5   5   5   5   3   5   1   1\n",
              "2               70   4   5   2   3   4   3   2   2\n",
              "3              292   5   5   5   5   3   3   2   3\n",
              "4              324   3   3   3   4   4   2   2   3"
            ]
          },
          "metadata": {
            "tags": []
          },
          "execution_count": 11
        }
      ]
    },
    {
      "cell_type": "markdown",
      "metadata": {
        "id": "oTmgw6g6z9nV"
      },
      "source": [
        "## Combining Survey data with headcount data\n",
        "\n",
        "In order to do comparison over groups, we'll need to marry the headcount and survey data. \n",
        "\n",
        "**Question**: How should we do this, given we know that surveys are often not filled out by everyone?\n"
      ]
    },
    {
      "cell_type": "code",
      "metadata": {
        "id": "iV_oj2Oh03rd"
      },
      "source": [
        "surveydata=surveydata.rename(columns={'Employee Number':'Employee ID'},)\n",
        "\n",
        "surveydata=pd.merge(surveydata,hcdata,on='Employee ID')"
      ],
      "execution_count": null,
      "outputs": []
    },
    {
      "cell_type": "markdown",
      "metadata": {
        "id": "1K7ygYwCY07E"
      },
      "source": [
        "# **Testing for differences between and across group**"
      ]
    },
    {
      "cell_type": "markdown",
      "metadata": {
        "id": "9yTVklwkaHvx"
      },
      "source": [
        "How can we be confident that two or more groups of employees are different from one another?\n",
        "\n",
        "Visualizations only tell us so much in terms of how different to groups of employees. Our eyes can only see certain nuances in the data using tools like boxplots and histograms.\n",
        "\n",
        "Let's take the following example of Widgetcorp employees responding to the first question on the survey \"I am proud to work for WidgetCorp\"\n"
      ]
    },
    {
      "cell_type": "code",
      "metadata": {
        "id": "_4gJQmMWbpqV",
        "colab": {
          "base_uri": "https://localhost:8080/",
          "height": 821
        },
        "outputId": "2f91a58b-b16c-4705-86e6-8ee423274ada"
      },
      "source": [
        "surveydata.hist(column=\"Q1\", by=\"Department\", bins=5,figsize=(10,10))"
      ],
      "execution_count": null,
      "outputs": [
        {
          "output_type": "execute_result",
          "data": {
            "text/plain": [
              "array([[<matplotlib.axes._subplots.AxesSubplot object at 0x7fb04f9ce5c0>,\n",
              "        <matplotlib.axes._subplots.AxesSubplot object at 0x7fb04f9a58d0>,\n",
              "        <matplotlib.axes._subplots.AxesSubplot object at 0x7fb04f958b38>],\n",
              "       [<matplotlib.axes._subplots.AxesSubplot object at 0x7fb04f9ea5c0>,\n",
              "        <matplotlib.axes._subplots.AxesSubplot object at 0x7fb04f932cc0>,\n",
              "        <matplotlib.axes._subplots.AxesSubplot object at 0x7fb04f8e8f28>],\n",
              "       [<matplotlib.axes._subplots.AxesSubplot object at 0x7fb04f8a61d0>,\n",
              "        <matplotlib.axes._subplots.AxesSubplot object at 0x7fb04f859400>,\n",
              "        <matplotlib.axes._subplots.AxesSubplot object at 0x7fb04f859470>],\n",
              "       [<matplotlib.axes._subplots.AxesSubplot object at 0x7fb04f840908>,\n",
              "        <matplotlib.axes._subplots.AxesSubplot object at 0x7fb04f7f4b70>,\n",
              "        <matplotlib.axes._subplots.AxesSubplot object at 0x7fb04f7a6dd8>]],\n",
              "      dtype=object)"
            ]
          },
          "metadata": {
            "tags": []
          },
          "execution_count": 13
        },
        {
          "output_type": "display_data",
          "data": {
            "image/png": "[encoded data removed]",
            "text/plain": [
              "<Figure size 720x720 with 12 Axes>"
            ]
          },
          "metadata": {
            "tags": [],
            "needs_background": "light"
          }
        }
      ]
    },
    {
      "cell_type": "code",
      "metadata": {
        "id": "jYMKkcC-av2U",
        "colab": {
          "base_uri": "https://localhost:8080/"
        },
        "outputId": "c031cd4d-5b75-4b73-8d13-9c8898d13f6f"
      },
      "source": [
        "#let's take a look at the means for the plots above for the first survey question\n",
        "surveydata.groupby(\"Department\")[\"Q1\"].mean()"
      ],
      "execution_count": null,
      "outputs": [
        {
          "output_type": "execute_result",
          "data": {
            "text/plain": [
              "Department\n",
              "Complaince     3.125000\n",
              "Design         3.500000\n",
              "Engineering    3.086420\n",
              "Executive      3.375000\n",
              "Finance        3.588235\n",
              "HR             3.347826\n",
              "IT/IS          3.600000\n",
              "Legal          3.416667\n",
              "Marketing      3.532258\n",
              "Operations     3.355932\n",
              "Procurement    3.450980\n",
              "Sales          3.382979\n",
              "Name: Q1, dtype: float64"
            ]
          },
          "metadata": {
            "tags": []
          },
          "execution_count": 14
        }
      ]
    },
    {
      "cell_type": "markdown",
      "metadata": {
        "id": "pwYsyZSmeMLo"
      },
      "source": [
        "**Question**: How can we figure out whether these means are different? \n",
        "\n",
        "For example, it looks like Engineering is much lower than Finance in terms of their pride working for WidgetCorp. How can we be sure that this isn't just a few people throwing things off?"
      ]
    },
    {
      "cell_type": "markdown",
      "metadata": {
        "id": "wCOiXOahfiGH"
      },
      "source": [
        "## **Numeric variables: T-Tests**\n",
        "\n",
        "T-Tests compares differences in a continuous (a kind of numeric) variable among 2 categories.\n",
        "\n",
        "![](http://socialresearchmethods.net/kb/Assets/images/stat_t3.gif)\n",
        "\n",
        "Types\n",
        "- Independent (One-way or Two-way)\n",
        "- Paired\n",
        "\n",
        "Assumptions:\n",
        "- Normal Distribution of Data: The means of the two populations being compared should follow normal distributions.\n",
        "- Equality of Variance:  The two populations being compared should have the same variance.\n",
        "- Scale of Measurement:  Data collected follows a continuous scale.\n",
        "\n"
      ]
    },
    {
      "cell_type": "code",
      "metadata": {
        "id": "lSAV8IgGb8Wd",
        "colab": {
          "base_uri": "https://localhost:8080/"
        },
        "outputId": "3e2a61ae-1390-475d-8ba5-1e6916d91e93"
      },
      "source": [
        "# Let's generate two different dataframes representing two different groups scores\n",
        "engineering_q1_responses = surveydata.loc[surveydata['Department']=='Engineering']['Q1']\n",
        "finance_q1_responses = surveydata.loc[surveydata['Department']=='Finance']['Q1']\n",
        "engineering_q1_responses.head()"
      ],
      "execution_count": null,
      "outputs": [
        {
          "output_type": "execute_result",
          "data": {
            "text/plain": [
              "40    1\n",
              "41    2\n",
              "42    4\n",
              "43    4\n",
              "44    2\n",
              "Name: Q1, dtype: int64"
            ]
          },
          "metadata": {
            "tags": []
          },
          "execution_count": 15
        }
      ]
    },
    {
      "cell_type": "code",
      "metadata": {
        "id": "zNCzrVaAfHRv",
        "colab": {
          "base_uri": "https://localhost:8080/"
        },
        "outputId": "be6fc13f-f71c-46a4-928d-d57e0731f566"
      },
      "source": [
        "# now, let's run the t-test. We'll need the stats module from the scipy library for this\n",
        "from scipy import stats\n",
        "\n",
        "stats.ttest_ind(engineering_q1_responses, finance_q1_responses)"
      ],
      "execution_count": null,
      "outputs": [
        {
          "output_type": "execute_result",
          "data": {
            "text/plain": [
              "Ttest_indResult(statistic=-1.4731903044866312, pvalue=0.14397106784465105)"
            ]
          },
          "metadata": {
            "tags": []
          },
          "execution_count": 16
        }
      ]
    },
    {
      "cell_type": "markdown",
      "metadata": {
        "id": "nq_M8bo4f6Ds"
      },
      "source": [
        "We would fail to reject the hypothesis that the two means are the same. *Meaning that we don't see a difference between Engineering and Finance's resposne to this question*"
      ]
    },
    {
      "cell_type": "markdown",
      "metadata": {
        "id": "fS-v9qx498Zv"
      },
      "source": [
        "## **Numeric variables: ANOVA**\n",
        "\n",
        "Analysis of Variance (ANOVA) compares differences in a continuous (a kind of numeric) variable among 2 or more categories.\n",
        "\n",
        "Types of hypotheses ANOVA tests:\n",
        "- One-Way: Are there differences in survey responses by department? \n",
        "- Two-Way: Are there differences in review length by department AND by job level?\n",
        "\n",
        "Assumptions:\n",
        "- Normal Distribution of Data: The means of the two populations being compared should follow normal distributions.\n",
        "- Equality of Variance:  The two populations being compared should have the same variance.\n",
        "- Scale of Measurement:  Data collected follows a continuous scale.\n"
      ]
    },
    {
      "cell_type": "markdown",
      "metadata": {
        "id": "yj3e32m6JpWc"
      },
      "source": [
        "We're going to use the `statsmodel` API to calculate ANOVAs.\n",
        "\n"
      ]
    },
    {
      "cell_type": "code",
      "metadata": {
        "id": "ksdkf7woHX0d",
        "colab": {
          "base_uri": "https://localhost:8080/"
        },
        "outputId": "699dcff7-862c-4d94-dc6d-59906989cd40"
      },
      "source": [
        "  import statsmodels.api as sm\n",
        "  from statsmodels.formula.api import ols"
      ],
      "execution_count": null,
      "outputs": [
        {
          "output_type": "stream",
          "text": [
            "/usr/local/lib/python3.6/dist-packages/statsmodels/tools/_testing.py:19: FutureWarning: pandas.util.testing is deprecated. Use the functions in the public API at pandas.testing instead.\n",
            "  import pandas.util.testing as tm\n"
          ],
          "name": "stderr"
        }
      ]
    },
    {
      "cell_type": "markdown",
      "metadata": {
        "id": "JH6COAlKMEIj"
      },
      "source": [
        "First we're going to test whether the ANOVA on Rating gives us the same result as the t-test"
      ]
    },
    {
      "cell_type": "code",
      "metadata": {
        "id": "L05gJFlZMBNv",
        "colab": {
          "base_uri": "https://localhost:8080/"
        },
        "outputId": "67c4c5fe-990a-4309-93cd-3521635d6905"
      },
      "source": [
        "#since we compared fianance and engineering above, we'll do the same here\n",
        "check_ttest_data=surveydata.loc[surveydata['Department'].isin(['Finance','Engineering'])]\n",
        "\n",
        "# We first define the formula. Here we are saying that Q1 differs by Department.\n",
        "\n",
        "formula = 'Q1 ~ Department'\n",
        "model = ols(formula, data=check_ttest_data).fit()\n",
        "aov_table = sm.stats.anova_lm(model, typ=2)\n",
        "print(aov_table)"
      ],
      "execution_count": null,
      "outputs": [
        {
          "output_type": "stream",
          "text": [
            "                sum_sq    df        F    PR(>F)\n",
            "Department    3.538312   1.0  2.17029  0.143971\n",
            "Residual    156.512709  96.0      NaN       NaN\n"
          ],
          "name": "stdout"
        }
      ]
    },
    {
      "cell_type": "markdown",
      "metadata": {
        "id": "O7mD_P-4MQaM"
      },
      "source": [
        "The p-value of this is the same as the p-value from the t-test!"
      ]
    },
    {
      "cell_type": "code",
      "metadata": {
        "id": "SM00khXtJHN5",
        "colab": {
          "base_uri": "https://localhost:8080/"
        },
        "outputId": "b814d2e7-6ff3-49a1-e86e-dd9cef9a7d83"
      },
      "source": [
        "# Now let's see if there is a difference between departments as a whole.\n",
        "formula = 'Q1 ~ Department'\n",
        "model = ols(formula, data=surveydata).fit()\n",
        "aov_table = sm.stats.anova_lm(model, typ=2)\n",
        "print(aov_table)"
      ],
      "execution_count": null,
      "outputs": [
        {
          "output_type": "stream",
          "text": [
            "                sum_sq     df         F   PR(>F)\n",
            "Department   12.397181   11.0  0.845978  0.59397\n",
            "Residual    632.797891  475.0       NaN      NaN\n"
          ],
          "name": "stdout"
        }
      ]
    },
    {
      "cell_type": "markdown",
      "metadata": {
        "id": "e5KRLLTSMaIs"
      },
      "source": [
        "This is **not** statistically significant (Pr > 0.05)!\n",
        "\n",
        "We can surmise that there is not a meaningful difference between departments in terms of employee responses to Q1 (Pride in working for WidgetCorp)."
      ]
    },
    {
      "cell_type": "markdown",
      "metadata": {
        "id": "Y8T0-8tpgbVc"
      },
      "source": [
        "Additional details on running ANOVAs and post-hoc analysis in Python can be [found here](https://reneshbedre.github.io/blog/anova.html)."
      ]
    },
    {
      "cell_type": "markdown",
      "metadata": {
        "id": "SOWuL6oym_7U"
      },
      "source": [
        "## **Categorical Variables: Chi-squared Tests**\n",
        "\n",
        "Tests whether the distribution of two groups are not the same. \n",
        "\n",
        "Assumptions:\n",
        "- Data is binary or categorical: Each datapoint can belong to only one class.\n",
        "- Large sample size.\n",
        "- Datapoints are independent of eachother.\n",
        "- Large cell counts: A common rule is 5 or more in all cells of a 2-by-2 table, and 5 or more in 80% of cells in larger tables, but no cells with zero expected count.\n",
        "\n",
        "**Note**: The data does not have to have a normal distribution."
      ]
    },
    {
      "cell_type": "code",
      "metadata": {
        "id": "y-PhRAyzjrWt",
        "colab": {
          "base_uri": "https://localhost:8080/",
          "height": 452
        },
        "outputId": "490a0c9d-a184-4026-a46e-0ca30c947c13"
      },
      "source": [
        "#first, let's reclassify our responses to questions as \"favorable\" and \"not favorable\"\n",
        "\n",
        "surveydata['Q1_favorable']=surveydata['Q1'].map({5:'favorable',\n",
        "                                                 4:'favorable',\n",
        "                                                 3:'not favorable',\n",
        "                                                 2:'not favorable',\n",
        "                                                 1:'not favorable'})\n",
        "\n",
        "cross_tab = pd.crosstab(surveydata[\"Department\"], surveydata[\"Q1_favorable\"])\n",
        "cross_tab"
      ],
      "execution_count": null,
      "outputs": [
        {
          "output_type": "execute_result",
          "data": {
            "text/html": [
              "<div>\n",
              "<style scoped>\n",
              "    .dataframe tbody tr th:only-of-type {\n",
              "        vertical-align: middle;\n",
              "    }\n",
              "\n",
              "    .dataframe tbody tr th {\n",
              "        vertical-align: top;\n",
              "    }\n",
              "\n",
              "    .dataframe thead th {\n",
              "        text-align: right;\n",
              "    }\n",
              "</style>\n",
              "<table border=\"1\" class=\"dataframe\">\n",
              "  <thead>\n",
              "    <tr style=\"text-align: right;\">\n",
              "      <th>Q1_favorable</th>\n",
              "      <th>favorable</th>\n",
              "      <th>not favorable</th>\n",
              "    </tr>\n",
              "    <tr>\n",
              "      <th>Department</th>\n",
              "      <th></th>\n",
              "      <th></th>\n",
              "    </tr>\n",
              "  </thead>\n",
              "  <tbody>\n",
              "    <tr>\n",
              "      <th>Complaince</th>\n",
              "      <td>2</td>\n",
              "      <td>6</td>\n",
              "    </tr>\n",
              "    <tr>\n",
              "      <th>Design</th>\n",
              "      <td>17</td>\n",
              "      <td>15</td>\n",
              "    </tr>\n",
              "    <tr>\n",
              "      <th>Engineering</th>\n",
              "      <td>37</td>\n",
              "      <td>44</td>\n",
              "    </tr>\n",
              "    <tr>\n",
              "      <th>Executive</th>\n",
              "      <td>5</td>\n",
              "      <td>3</td>\n",
              "    </tr>\n",
              "    <tr>\n",
              "      <th>Finance</th>\n",
              "      <td>11</td>\n",
              "      <td>6</td>\n",
              "    </tr>\n",
              "    <tr>\n",
              "      <th>HR</th>\n",
              "      <td>13</td>\n",
              "      <td>10</td>\n",
              "    </tr>\n",
              "    <tr>\n",
              "      <th>IT/IS</th>\n",
              "      <td>20</td>\n",
              "      <td>20</td>\n",
              "    </tr>\n",
              "    <tr>\n",
              "      <th>Legal</th>\n",
              "      <td>6</td>\n",
              "      <td>6</td>\n",
              "    </tr>\n",
              "    <tr>\n",
              "      <th>Marketing</th>\n",
              "      <td>31</td>\n",
              "      <td>31</td>\n",
              "    </tr>\n",
              "    <tr>\n",
              "      <th>Operations</th>\n",
              "      <td>25</td>\n",
              "      <td>34</td>\n",
              "    </tr>\n",
              "    <tr>\n",
              "      <th>Procurement</th>\n",
              "      <td>26</td>\n",
              "      <td>25</td>\n",
              "    </tr>\n",
              "    <tr>\n",
              "      <th>Sales</th>\n",
              "      <td>48</td>\n",
              "      <td>46</td>\n",
              "    </tr>\n",
              "  </tbody>\n",
              "</table>\n",
              "</div>"
            ],
            "text/plain": [
              "Q1_favorable  favorable  not favorable\n",
              "Department                            \n",
              "Complaince            2              6\n",
              "Design               17             15\n",
              "Engineering          37             44\n",
              "Executive             5              3\n",
              "Finance              11              6\n",
              "HR                   13             10\n",
              "IT/IS                20             20\n",
              "Legal                 6              6\n",
              "Marketing            31             31\n",
              "Operations           25             34\n",
              "Procurement          26             25\n",
              "Sales                48             46"
            ]
          },
          "metadata": {
            "tags": []
          },
          "execution_count": 21
        }
      ]
    },
    {
      "cell_type": "code",
      "metadata": {
        "id": "F_lgbiZlllp3",
        "colab": {
          "base_uri": "https://localhost:8080/",
          "height": 142
        },
        "outputId": "8f328a76-fe84-47b3-dd32-ba1a33440099"
      },
      "source": [
        "#now we can run the chi-square test \n",
        "\n",
        "chi2, p, deg_f, expected = stats.chi2_contingency(cross_tab)\n",
        "\n",
        "pd.DataFrame({'measure':['chi2_value','p','degrees_of_freedom'],'value':[chi2,p,deg_f]})"
      ],
      "execution_count": null,
      "outputs": [
        {
          "output_type": "execute_result",
          "data": {
            "text/html": [
              "<div>\n",
              "<style scoped>\n",
              "    .dataframe tbody tr th:only-of-type {\n",
              "        vertical-align: middle;\n",
              "    }\n",
              "\n",
              "    .dataframe tbody tr th {\n",
              "        vertical-align: top;\n",
              "    }\n",
              "\n",
              "    .dataframe thead th {\n",
              "        text-align: right;\n",
              "    }\n",
              "</style>\n",
              "<table border=\"1\" class=\"dataframe\">\n",
              "  <thead>\n",
              "    <tr style=\"text-align: right;\">\n",
              "      <th></th>\n",
              "      <th>measure</th>\n",
              "      <th>value</th>\n",
              "    </tr>\n",
              "  </thead>\n",
              "  <tbody>\n",
              "    <tr>\n",
              "      <th>0</th>\n",
              "      <td>chi2_value</td>\n",
              "      <td>6.476221</td>\n",
              "    </tr>\n",
              "    <tr>\n",
              "      <th>1</th>\n",
              "      <td>p</td>\n",
              "      <td>0.839778</td>\n",
              "    </tr>\n",
              "    <tr>\n",
              "      <th>2</th>\n",
              "      <td>degrees_of_freedom</td>\n",
              "      <td>11.000000</td>\n",
              "    </tr>\n",
              "  </tbody>\n",
              "</table>\n",
              "</div>"
            ],
            "text/plain": [
              "              measure      value\n",
              "0          chi2_value   6.476221\n",
              "1                   p   0.839778\n",
              "2  degrees_of_freedom  11.000000"
            ]
          },
          "metadata": {
            "tags": []
          },
          "execution_count": 22
        }
      ]
    },
    {
      "cell_type": "markdown",
      "metadata": {
        "id": "JP2m8EvY1KNc"
      },
      "source": [
        "No surpise (based on what we saw in the ANOVA analysis), this is also **not** statistically significant (Pr > 0.05)!"
      ]
    },
    {
      "cell_type": "markdown",
      "metadata": {
        "id": "T0R6aSGa4spR"
      },
      "source": [
        "# **Correlations**\n",
        "\n",
        "How do two variables relate to one another? When one goes up, does the other also go up? Or does the other go down? Or is there no discernable pattern? This is what correlation is all about. "
      ]
    },
    {
      "cell_type": "markdown",
      "metadata": {
        "id": "XlDQ_dwn8A-i"
      },
      "source": [
        "Is tenure related to how employees answered \"I see myself still working at WidgetCorp in two years' time\"? \n",
        "\n",
        "Let's run a correlation to see.\n"
      ]
    },
    {
      "cell_type": "code",
      "metadata": {
        "id": "d8Xv_QRw8Ah4",
        "colab": {
          "base_uri": "https://localhost:8080/",
          "height": 111
        },
        "outputId": "6b5bf55b-019b-4993-a1ca-1e3ac8207bd9"
      },
      "source": [
        "# to do this, we can use the pearsonr() function in scipy.stats\n",
        "r, p = stats.pearsonr(surveydata['Tenure'],surveydata['Q3'])\n",
        "\n",
        "#we are given two \n",
        "\n",
        "pd.DataFrame({'stat':['Correlation Coefficient','P Value'],'value':[r,p]})\n"
      ],
      "execution_count": null,
      "outputs": [
        {
          "output_type": "execute_result",
          "data": {
            "text/html": [
              "<div>\n",
              "<style scoped>\n",
              "    .dataframe tbody tr th:only-of-type {\n",
              "        vertical-align: middle;\n",
              "    }\n",
              "\n",
              "    .dataframe tbody tr th {\n",
              "        vertical-align: top;\n",
              "    }\n",
              "\n",
              "    .dataframe thead th {\n",
              "        text-align: right;\n",
              "    }\n",
              "</style>\n",
              "<table border=\"1\" class=\"dataframe\">\n",
              "  <thead>\n",
              "    <tr style=\"text-align: right;\">\n",
              "      <th></th>\n",
              "      <th>stat</th>\n",
              "      <th>value</th>\n",
              "    </tr>\n",
              "  </thead>\n",
              "  <tbody>\n",
              "    <tr>\n",
              "      <th>0</th>\n",
              "      <td>Correlation Coefficient</td>\n",
              "      <td>0.159591</td>\n",
              "    </tr>\n",
              "    <tr>\n",
              "      <th>1</th>\n",
              "      <td>P Value</td>\n",
              "      <td>0.000407</td>\n",
              "    </tr>\n",
              "  </tbody>\n",
              "</table>\n",
              "</div>"
            ],
            "text/plain": [
              "                      stat     value\n",
              "0  Correlation Coefficient  0.159591\n",
              "1                  P Value  0.000407"
            ]
          },
          "metadata": {
            "tags": []
          },
          "execution_count": 23
        }
      ]
    },
    {
      "cell_type": "markdown",
      "metadata": {
        "id": "hHh-ISKr-5uI"
      },
      "source": [
        "So it seems that there is a positive, though weak, correlation, between tenure and people's outlook on staying with WidgetCorp over the next two years. \n",
        "\n",
        "The P value is small (below .05), so we are confident in this claim.\n",
        "\n"
      ]
    },
    {
      "cell_type": "markdown",
      "metadata": {
        "id": "ydNsDYUr_uz4"
      },
      "source": [
        "### **Vizualizing correlations**\n",
        "\n",
        "When we have many different variables to examine relationships between, sometimes it's easier to visualize correlations first before we dive deeper and run correlation calculations so we can also extract a P value. \n",
        "\n",
        "Here is an example:"
      ]
    },
    {
      "cell_type": "code",
      "metadata": {
        "id": "Hn71A8OG6KuX",
        "colab": {
          "base_uri": "https://localhost:8080/",
          "height": 276
        },
        "outputId": "de14e70b-60fb-4b51-c939-1f21e5f3bbe4"
      },
      "source": [
        "import seaborn as sns #we'll import the seaborn library to help us visualize this data\n",
        "\n",
        "corr = surveydata[['Q1','Q2','Q3','Q4','Q5','Q6','Q7','Q8']].corr() #calculate correlations betweeen all survey questions\n",
        "\n",
        "ax = sns.heatmap( #create a heatmap object called ax\n",
        "    corr, #data we want to map\n",
        "    vmin=-1, vmax=1, center=0,  #parameters for possible value of each cell\n",
        "    cmap=sns.diverging_palette(20, 220, n=200), #coloring for cells\n",
        "    square=True \n",
        ")\n",
        "ax.set_xticklabels(\n",
        "    ax.get_xticklabels(),\n",
        "    rotation=45,\n",
        "    horizontalalignment='right'\n",
        ");"
      ],
      "execution_count": null,
      "outputs": [
        {
          "output_type": "display_data",
          "data": {
            "image/png": "[encoded data removed]",
            "text/plain": [
              "<Figure size 432x288 with 2 Axes>"
            ]
          },
          "metadata": {
            "tags": [],
            "needs_background": "light"
          }
        }
      ]
    },
    {
      "cell_type": "markdown",
      "metadata": {
        "id": "8ixo-yCmgHel"
      },
      "source": [
        "# **Modeling Data**\n",
        "\n",
        "### **What is a model?**\n",
        "\n",
        "A model is a simple representation of what's actually happening in the real world. Think of the toy diorama you may have made in school-- it was a simplification of the real world meant to get others to understand how things work. "
      ]
    },
    {
      "cell_type": "markdown",
      "metadata": {
        "id": "IIci6wKa20kR"
      },
      "source": [
        "\n",
        "## **Regressions**"
      ]
    },
    {
      "cell_type": "markdown",
      "metadata": {
        "id": "_GKJt6PNgmZ_"
      },
      "source": [
        "Regressions are one of the most common statistical model types employed in people analytics projects.\n",
        "\n",
        "Regression helps us understand the relationship between changes in two or more variables (known as independent variables, features, explanatory variables, or inputs) and the change of another, single variable (known as a dependent variable or response varaible). \n",
        "\n",
        "Generally, regression takes the following equation form:\n",
        "\n",
        "![](https://www.c-sharpcorner.com/article/linear-regression2/Images/f_MLR.png) "
      ]
    },
    {
      "cell_type": "markdown",
      "metadata": {
        "id": "xYIMgDdQShZ2"
      },
      "source": [
        "### **Regression types**\n",
        "\n",
        "Regression is a very nuanced statistical learning tool, with entire fields (bioinformatics, psychometrics, econometrics) dedicated or having developed specific types of regression depending on the problem being analyzed.\n",
        "\n",
        "\n",
        "---\n",
        "\n",
        "Generally speaking, however, there are two broad sorts of regression employed in people analytics. \n",
        "\n",
        "\n",
        "*  **Linear regressions** model the relationship between input variables to a **continuous output variable**. This is usually done via a  *Least Squares* approach. \n",
        "\n",
        "* In contrast, **logistic regressions** model the probability of input variables resulting in a particular **binary outcome**. These are used in classification problems. This is usually perfromed via a *logistic regression*\n"
      ]
    },
    {
      "cell_type": "markdown",
      "metadata": {
        "id": "KAJOKCjx4DeV"
      },
      "source": [
        "### **An important note on assumptions in regression**\n",
        "\n",
        "We will go through a very simplified overview of regression in Python, and not focus so much on the statistical assumptions of running such models. \n",
        "\n",
        "***It is incredibly important*** that you understand the assumptions of these models and that you follow them as you make models of your data, as violoating them can cause you to draw (sometimes gross) misinterpretations from your data. \n",
        "\n",
        "The assumptions of linear and logistic regression are different (though there are commonalities). A great video that overviews these assumptions for [linear regression are here](https://youtu.be/hVe2F9krrWk), and [logistic regression are here](https://youtu.be/nTjK4JdmZe4). Note these are overviews, and this topic is a bit complex (thereare entire courses dedicated to regression analysis and statistical inference at universities and online alike). "
      ]
    },
    {
      "cell_type": "markdown",
      "metadata": {
        "id": "vjuHcADi2_qt"
      },
      "source": [
        "### **Linear Regression**\n",
        "\n",
        "Remember our scatter plot from Lecture 2a on the relationship between tenure and salary? \n",
        "\n",
        "You may have thought of drawing a straight (linear!) line through that data to generalize the relationship between those two variables--or more specifically the impact of tenure on annual salary. \n",
        "\n",
        "Let's do that. "
      ]
    },
    {
      "cell_type": "code",
      "metadata": {
        "id": "vxc0VVwL5f6f",
        "colab": {
          "base_uri": "https://localhost:8080/",
          "height": 296
        },
        "outputId": "8fb8c2e9-14ae-46da-f0eb-ee20c42524f8"
      },
      "source": [
        "import matplotlib.pyplot as plt\n",
        "import numpy as np\n",
        "\n",
        "hcdata.plot.scatter(x='Tenure', y='Annual Salary') #for this kind of plot, we need to put the .plot method first\n",
        "\n",
        "#now add the best fit line\n",
        "plt.plot(np.unique(hcdata['Tenure']), \n",
        "         np.poly1d(np.polyfit(hcdata['Tenure'], hcdata['Annual Salary'], 1))(np.unique(hcdata['Tenure'])),\n",
        "         color='r') \n"
      ],
      "execution_count": null,
      "outputs": [
        {
          "output_type": "execute_result",
          "data": {
            "text/plain": [
              "[<matplotlib.lines.Line2D at 0x7fb03a60e240>]"
            ]
          },
          "metadata": {
            "tags": []
          },
          "execution_count": 25
        },
        {
          "output_type": "display_data",
          "data": {
            "image/png": "[encoded data removed]",
            "text/plain": [
              "<Figure size 432x288 with 1 Axes>"
            ]
          },
          "metadata": {
            "tags": [],
            "needs_background": "light"
          }
        }
      ]
    },
    {
      "cell_type": "markdown",
      "metadata": {
        "id": "j0CQSYNxaz9S"
      },
      "source": [
        "It appears that everyone generally starts out with a \\$50k annual salary in WidgetCorp, and each year that number grows by about $10k on average. \n",
        "\n",
        "\n",
        "---\n",
        "\n",
        "\n",
        "But what if we want a specific number?\n",
        "\n",
        "And how statistically reliable the relationship is between the two?\n",
        "\n",
        "---\n",
        "\n",
        "Let's run a regression to find out. "
      ]
    },
    {
      "cell_type": "code",
      "metadata": {
        "id": "Wcq4R7WF-EZW",
        "colab": {
          "base_uri": "https://localhost:8080/"
        },
        "outputId": "5b9d3e48-b0ca-4737-9268-dc16069908c7"
      },
      "source": [
        "# let's run the regression using the statsmodels library\n",
        "import statsmodels.api as sm \n",
        "\n",
        "#make our response variable column\n",
        "y = hcdata[\"Annual Salary\"]\n",
        "\n",
        "#make our explanatory variable columns\n",
        "x = hcdata[\"Tenure\"]\n",
        "x = sm.add_constant(x) #like the chart above, we need to make an intercept (or 'constant')\n",
        "\n",
        "#now make (fit) the model\n",
        "model_tenure = sm.OLS(y,x).fit()\n",
        "print(model_tenure.summary())\n"
      ],
      "execution_count": null,
      "outputs": [
        {
          "output_type": "stream",
          "text": [
            "                            OLS Regression Results                            \n",
            "==============================================================================\n",
            "Dep. Variable:          Annual Salary   R-squared:                       0.359\n",
            "Model:                            OLS   Adj. R-squared:                  0.357\n",
            "Method:                 Least Squares   F-statistic:                     292.9\n",
            "Date:                Sat, 12 Dec 2020   Prob (F-statistic):           1.76e-52\n",
            "Time:                        15:53:39   Log-Likelihood:                -5963.0\n",
            "No. Observations:                 526   AIC:                         1.193e+04\n",
            "Df Residuals:                     524   BIC:                         1.194e+04\n",
            "Df Model:                           1                                         \n",
            "Covariance Type:            nonrobust                                         \n",
            "==============================================================================\n",
            "                 coef    std err          t      P>|t|      [0.025      0.975]\n",
            "------------------------------------------------------------------------------\n",
            "const       4.142e+04   2674.135     15.490      0.000    3.62e+04    4.67e+04\n",
            "Tenure      8056.7776    470.793     17.113      0.000    7131.905    8981.650\n",
            "==============================================================================\n",
            "Omnibus:                       85.588   Durbin-Watson:                   0.919\n",
            "Prob(Omnibus):                  0.000   Jarque-Bera (JB):              133.353\n",
            "Skew:                           1.039   Prob(JB):                     1.10e-29\n",
            "Kurtosis:                       4.330   Cond. No.                         17.6\n",
            "==============================================================================\n",
            "\n",
            "Warnings:\n",
            "[1] Standard Errors assume that the covariance matrix of the errors is correctly specified.\n"
          ],
          "name": "stdout"
        }
      ]
    },
    {
      "cell_type": "markdown",
      "metadata": {
        "id": "z8rDN7io9KUF"
      },
      "source": [
        "#### **Interpreting  Results**\n",
        "\n",
        "- **Adjusted R-squared** reflects the fit of the model. R-squared values range from 0 to 1, where a higher value generally indicates a better fit, assuming certain conditions are met. Here we have an R-Squared value of .359 - which in people analytics is typically strong result. \n",
        "- **coef** shows the slope coefficients for each of the variables in our model:\n",
        "  - **const** coefficient is your Y-intercept. It means that when tenure is zero, salary is \\$41.4k.\n",
        "  - **Tenure** coefficient represents the change in the output \"Anual Salary\" due to a change of one unit (which in this case is a year) in the Tenure(when everything else held constant). In this case, a one year increase in salary results in a $8056 increase in salary, on average. \n",
        "- **std err** reflects the level of accuracy of the coefficients. The lower it is (relative to the coefficient), the higher is the level of accuracy\n",
        "- **P >|t|** is your p-value. A p-value of less than 0.05 is considered to be statistically significant. Here, tenure is statistically significant (P<.05).\n",
        "- **Confidence Interval** represents the range in which our coefficients are likely to fall (with a likelihood of 95%, as shown in the right two columns in our regression output coefficient table). "
      ]
    },
    {
      "cell_type": "markdown",
      "metadata": {
        "id": "FzK8Qw3xAa3b"
      },
      "source": [
        "Surely there are other things that can explain differences in annual salary? How about Department?"
      ]
    },
    {
      "cell_type": "code",
      "metadata": {
        "id": "cvdQSPpjAqKY",
        "colab": {
          "base_uri": "https://localhost:8080/",
          "height": 224
        },
        "outputId": "5dae9ba6-fef4-4dda-b924-53881b9b8d28"
      },
      "source": [
        "x = hcdata[[\"Tenure\", \"Department\"]]\n",
        "\n",
        "# We convert the \"Department\" column to a set of dummy (yes or no, or 0 or 1) varaiables\n",
        "x = pd.get_dummies(x, columns=[\"Department\"])\n",
        "x = sm.add_constant(x)\n",
        "\n",
        "x=x.drop(columns='Department_Complaince') # we must drop one category for mathematical purposes (multicolinearity)\n",
        "\n",
        "x.tail()  \n"
      ],
      "execution_count": null,
      "outputs": [
        {
          "output_type": "execute_result",
          "data": {
            "text/html": [
              "<div>\n",
              "<style scoped>\n",
              "    .dataframe tbody tr th:only-of-type {\n",
              "        vertical-align: middle;\n",
              "    }\n",
              "\n",
              "    .dataframe tbody tr th {\n",
              "        vertical-align: top;\n",
              "    }\n",
              "\n",
              "    .dataframe thead th {\n",
              "        text-align: right;\n",
              "    }\n",
              "</style>\n",
              "<table border=\"1\" class=\"dataframe\">\n",
              "  <thead>\n",
              "    <tr style=\"text-align: right;\">\n",
              "      <th></th>\n",
              "      <th>const</th>\n",
              "      <th>Tenure</th>\n",
              "      <th>Department_Design</th>\n",
              "      <th>Department_Engineering</th>\n",
              "      <th>Department_Executive</th>\n",
              "      <th>Department_Finance</th>\n",
              "      <th>Department_HR</th>\n",
              "      <th>Department_IT/IS</th>\n",
              "      <th>Department_Legal</th>\n",
              "      <th>Department_Marketing</th>\n",
              "      <th>Department_Operations</th>\n",
              "      <th>Department_Procurement</th>\n",
              "      <th>Department_Sales</th>\n",
              "    </tr>\n",
              "  </thead>\n",
              "  <tbody>\n",
              "    <tr>\n",
              "      <th>521</th>\n",
              "      <td>1.0</td>\n",
              "      <td>4.127392</td>\n",
              "      <td>0</td>\n",
              "      <td>0</td>\n",
              "      <td>0</td>\n",
              "      <td>0</td>\n",
              "      <td>0</td>\n",
              "      <td>0</td>\n",
              "      <td>0</td>\n",
              "      <td>0</td>\n",
              "      <td>0</td>\n",
              "      <td>0</td>\n",
              "      <td>1</td>\n",
              "    </tr>\n",
              "    <tr>\n",
              "      <th>522</th>\n",
              "      <td>1.0</td>\n",
              "      <td>3.837935</td>\n",
              "      <td>0</td>\n",
              "      <td>0</td>\n",
              "      <td>0</td>\n",
              "      <td>0</td>\n",
              "      <td>0</td>\n",
              "      <td>0</td>\n",
              "      <td>0</td>\n",
              "      <td>0</td>\n",
              "      <td>0</td>\n",
              "      <td>0</td>\n",
              "      <td>1</td>\n",
              "    </tr>\n",
              "    <tr>\n",
              "      <th>523</th>\n",
              "      <td>1.0</td>\n",
              "      <td>2.913269</td>\n",
              "      <td>0</td>\n",
              "      <td>0</td>\n",
              "      <td>0</td>\n",
              "      <td>0</td>\n",
              "      <td>0</td>\n",
              "      <td>0</td>\n",
              "      <td>0</td>\n",
              "      <td>0</td>\n",
              "      <td>0</td>\n",
              "      <td>0</td>\n",
              "      <td>1</td>\n",
              "    </tr>\n",
              "    <tr>\n",
              "      <th>524</th>\n",
              "      <td>1.0</td>\n",
              "      <td>2.687647</td>\n",
              "      <td>0</td>\n",
              "      <td>0</td>\n",
              "      <td>0</td>\n",
              "      <td>0</td>\n",
              "      <td>0</td>\n",
              "      <td>0</td>\n",
              "      <td>0</td>\n",
              "      <td>0</td>\n",
              "      <td>0</td>\n",
              "      <td>0</td>\n",
              "      <td>1</td>\n",
              "    </tr>\n",
              "    <tr>\n",
              "      <th>525</th>\n",
              "      <td>1.0</td>\n",
              "      <td>2.486100</td>\n",
              "      <td>0</td>\n",
              "      <td>0</td>\n",
              "      <td>0</td>\n",
              "      <td>0</td>\n",
              "      <td>0</td>\n",
              "      <td>0</td>\n",
              "      <td>0</td>\n",
              "      <td>0</td>\n",
              "      <td>0</td>\n",
              "      <td>0</td>\n",
              "      <td>1</td>\n",
              "    </tr>\n",
              "  </tbody>\n",
              "</table>\n",
              "</div>"
            ],
            "text/plain": [
              "     const    Tenure  ...  Department_Procurement  Department_Sales\n",
              "521    1.0  4.127392  ...                       0                 1\n",
              "522    1.0  3.837935  ...                       0                 1\n",
              "523    1.0  2.913269  ...                       0                 1\n",
              "524    1.0  2.687647  ...                       0                 1\n",
              "525    1.0  2.486100  ...                       0                 1\n",
              "\n",
              "[5 rows x 13 columns]"
            ]
          },
          "metadata": {
            "tags": []
          },
          "execution_count": 27
        }
      ]
    },
    {
      "cell_type": "code",
      "metadata": {
        "id": "dyFFi8-UAqC3",
        "colab": {
          "base_uri": "https://localhost:8080/"
        },
        "outputId": "55294c52-d81b-463f-f059-0a0910077b15"
      },
      "source": [
        "model_tenure_department = sm.OLS(y,x).fit()\n",
        "\n",
        "print(model_tenure_department.summary())\n"
      ],
      "execution_count": null,
      "outputs": [
        {
          "output_type": "stream",
          "text": [
            "                            OLS Regression Results                            \n",
            "==============================================================================\n",
            "Dep. Variable:          Annual Salary   R-squared:                       0.447\n",
            "Model:                            OLS   Adj. R-squared:                  0.434\n",
            "Method:                 Least Squares   F-statistic:                     34.57\n",
            "Date:                Sat, 12 Dec 2020   Prob (F-statistic):           1.77e-58\n",
            "Time:                        16:00:59   Log-Likelihood:                -5924.0\n",
            "No. Observations:                 526   AIC:                         1.187e+04\n",
            "Df Residuals:                     513   BIC:                         1.193e+04\n",
            "Df Model:                          12                                         \n",
            "Covariance Type:            nonrobust                                         \n",
            "==========================================================================================\n",
            "                             coef    std err          t      P>|t|      [0.025      0.975]\n",
            "------------------------------------------------------------------------------------------\n",
            "const                   3.838e+04   6319.350      6.074      0.000     2.6e+04    5.08e+04\n",
            "Tenure                  8110.2110    446.319     18.171      0.000    7233.372    8987.050\n",
            "Department_Design       3021.2343   6873.341      0.440      0.660   -1.05e+04    1.65e+04\n",
            "Department_Engineering  3380.6683   6367.305      0.531      0.596   -9128.533    1.59e+04\n",
            "Department_Executive    5.893e+04   9053.317      6.509      0.000    4.11e+04    7.67e+04\n",
            "Department_Finance      2239.6503   7454.567      0.300      0.764   -1.24e+04    1.69e+04\n",
            "Department_HR           -976.4592   7191.176     -0.136      0.892   -1.51e+04    1.32e+04\n",
            "Department_IT/IS        7166.0531   6729.250      1.065      0.287   -6054.225    2.04e+04\n",
            "Department_Legal        6153.5074   8174.142      0.753      0.452   -9905.403    2.22e+04\n",
            "Department_Marketing     575.1541   6504.825      0.088      0.930   -1.22e+04    1.34e+04\n",
            "Department_Operations  -3203.4458   6473.676     -0.495      0.621   -1.59e+04    9514.731\n",
            "Department_Procurement   -59.1352   6587.975     -0.009      0.993    -1.3e+04    1.29e+04\n",
            "Department_Sales        3641.2448   6357.486      0.573      0.567   -8848.665    1.61e+04\n",
            "==============================================================================\n",
            "Omnibus:                       42.165   Durbin-Watson:                   1.064\n",
            "Prob(Omnibus):                  0.000   Jarque-Bera (JB):               50.113\n",
            "Skew:                           0.737   Prob(JB):                     1.31e-11\n",
            "Kurtosis:                       3.337   Cond. No.                         147.\n",
            "==============================================================================\n",
            "\n",
            "Warnings:\n",
            "[1] Standard Errors assume that the covariance matrix of the errors is correctly specified.\n"
          ],
          "name": "stdout"
        }
      ]
    },
    {
      "cell_type": "code",
      "metadata": {
        "id": "CtCPsq9Mf1ud",
        "colab": {
          "base_uri": "https://localhost:8080/"
        },
        "outputId": "b332de29-9f09-4783-b99f-1accda94f38d"
      },
      "source": [
        "#let's check that adding the department dummies to the model was a good choice using an ANOVA test\n",
        "\n",
        "from statsmodels.stats.anova import anova_lm\n",
        "anovaResults = anova_lm(model_tenure, model_tenure_department)\n",
        "print(anovaResults) # it appears that this was a good choice\n"
      ],
      "execution_count": null,
      "outputs": [
        {
          "output_type": "stream",
          "text": [
            "   df_resid           ssr  df_diff       ss_diff         F        Pr(>F)\n",
            "0     524.0  2.164354e+11      0.0           NaN       NaN           NaN\n",
            "1     513.0  1.865590e+11     11.0  2.987636e+10  7.468546  5.947382e-12\n"
          ],
          "name": "stdout"
        },
        {
          "output_type": "stream",
          "text": [
            "/usr/local/lib/python3.6/dist-packages/scipy/stats/_distn_infrastructure.py:903: RuntimeWarning: invalid value encountered in greater\n",
            "  return (a < x) & (x < b)\n",
            "/usr/local/lib/python3.6/dist-packages/scipy/stats/_distn_infrastructure.py:903: RuntimeWarning: invalid value encountered in less\n",
            "  return (a < x) & (x < b)\n",
            "/usr/local/lib/python3.6/dist-packages/scipy/stats/_distn_infrastructure.py:1912: RuntimeWarning: invalid value encountered in less_equal\n",
            "  cond2 = cond0 & (x <= _a)\n"
          ],
          "name": "stderr"
        }
      ]
    },
    {
      "cell_type": "markdown",
      "metadata": {
        "id": "MVY5CPvXHQ_M"
      },
      "source": [
        "#### **Making Predictions**\n",
        "\n",
        "Now that we know how one or more variables affects salary-- why don't we plug in some numbers to the equation above, and get a prediction?"
      ]
    },
    {
      "cell_type": "code",
      "metadata": {
        "id": "wwC_fNFjHBVg",
        "colab": {
          "base_uri": "https://localhost:8080/",
          "height": 436
        },
        "outputId": "00d56e8e-58fa-49e5-857f-fee9f15a116d"
      },
      "source": [
        "#and of course, let's make some predictions with the data\n",
        "\n",
        "#data to predict with first model we made above\n",
        "x1 = hcdata[\"Tenure\"]\n",
        "x1 = sm.add_constant(x1)\n",
        "\n",
        "#data to predict with second model we made\n",
        "x2 = hcdata[[\"Tenure\", \"Department\"]]\n",
        "x2 = pd.get_dummies(x2, columns=[\"Department\"])\n",
        "x2 = sm.add_constant(x2)\n",
        "x2=x2.drop(columns='Department_Complaince') # we must drop one category for mathematical purposes (multicolinearity)\n",
        "\n",
        "#make a dataframe with everything put together (Actual and predicted data)\n",
        "employee_predictions= pd.DataFrame({'employee_id':hcdata['Employee ID'],\n",
        "              'tenure':hcdata['Tenure'],\n",
        "              'department':hcdata['Department'],\n",
        "              'actual salary':hcdata['Annual Salary'],\n",
        "              'predicted salary tenure only model':model_tenure.predict(x1),\n",
        "              'predicted salary tenure + department model':model_tenure_department.predict(x2)})\n",
        "\n",
        "employee_predictions\n"
      ],
      "execution_count": null,
      "outputs": [
        {
          "output_type": "execute_result",
          "data": {
            "text/html": [
              "<div>\n",
              "<style scoped>\n",
              "    .dataframe tbody tr th:only-of-type {\n",
              "        vertical-align: middle;\n",
              "    }\n",
              "\n",
              "    .dataframe tbody tr th {\n",
              "        vertical-align: top;\n",
              "    }\n",
              "\n",
              "    .dataframe thead th {\n",
              "        text-align: right;\n",
              "    }\n",
              "</style>\n",
              "<table border=\"1\" class=\"dataframe\">\n",
              "  <thead>\n",
              "    <tr style=\"text-align: right;\">\n",
              "      <th></th>\n",
              "      <th>employee_id</th>\n",
              "      <th>tenure</th>\n",
              "      <th>department</th>\n",
              "      <th>actual salary</th>\n",
              "      <th>predicted salary tenure only model</th>\n",
              "      <th>predicted salary tenure + department model</th>\n",
              "    </tr>\n",
              "  </thead>\n",
              "  <tbody>\n",
              "    <tr>\n",
              "      <th>0</th>\n",
              "      <td>427</td>\n",
              "      <td>4.894980</td>\n",
              "      <td>Complaince</td>\n",
              "      <td>103875.2</td>\n",
              "      <td>80860.951442</td>\n",
              "      <td>78082.159724</td>\n",
              "    </tr>\n",
              "    <tr>\n",
              "      <th>1</th>\n",
              "      <td>848</td>\n",
              "      <td>7.400493</td>\n",
              "      <td>Complaince</td>\n",
              "      <td>101129.6</td>\n",
              "      <td>101047.312801</td>\n",
              "      <td>98402.399102</td>\n",
              "    </tr>\n",
              "    <tr>\n",
              "      <th>2</th>\n",
              "      <td>63</td>\n",
              "      <td>2.728467</td>\n",
              "      <td>Complaince</td>\n",
              "      <td>78769.6</td>\n",
              "      <td>63405.838407</td>\n",
              "      <td>60511.282590</td>\n",
              "    </tr>\n",
              "    <tr>\n",
              "      <th>3</th>\n",
              "      <td>305</td>\n",
              "      <td>4.324053</td>\n",
              "      <td>Complaince</td>\n",
              "      <td>77646.4</td>\n",
              "      <td>76261.114366</td>\n",
              "      <td>73451.816057</td>\n",
              "    </tr>\n",
              "    <tr>\n",
              "      <th>4</th>\n",
              "      <td>513</td>\n",
              "      <td>5.307411</td>\n",
              "      <td>Complaince</td>\n",
              "      <td>70865.6</td>\n",
              "      <td>84183.816682</td>\n",
              "      <td>81427.062547</td>\n",
              "    </tr>\n",
              "    <tr>\n",
              "      <th>...</th>\n",
              "      <td>...</td>\n",
              "      <td>...</td>\n",
              "      <td>...</td>\n",
              "      <td>...</td>\n",
              "      <td>...</td>\n",
              "      <td>...</td>\n",
              "    </tr>\n",
              "    <tr>\n",
              "      <th>521</th>\n",
              "      <td>274</td>\n",
              "      <td>4.127392</td>\n",
              "      <td>Sales</td>\n",
              "      <td>55494.4</td>\n",
              "      <td>74676.663172</td>\n",
              "      <td>75498.101465</td>\n",
              "    </tr>\n",
              "    <tr>\n",
              "      <th>522</th>\n",
              "      <td>213</td>\n",
              "      <td>3.837935</td>\n",
              "      <td>Sales</td>\n",
              "      <td>53456.0</td>\n",
              "      <td>72344.575890</td>\n",
              "      <td>73150.547541</td>\n",
              "    </tr>\n",
              "    <tr>\n",
              "      <th>523</th>\n",
              "      <td>81</td>\n",
              "      <td>2.913269</td>\n",
              "      <td>Sales</td>\n",
              "      <td>52582.4</td>\n",
              "      <td>64894.746699</td>\n",
              "      <td>65651.310318</td>\n",
              "    </tr>\n",
              "    <tr>\n",
              "      <th>524</th>\n",
              "      <td>60</td>\n",
              "      <td>2.687647</td>\n",
              "      <td>Sales</td>\n",
              "      <td>51230.4</td>\n",
              "      <td>63076.956457</td>\n",
              "      <td>63821.464305</td>\n",
              "    </tr>\n",
              "    <tr>\n",
              "      <th>525</th>\n",
              "      <td>44</td>\n",
              "      <td>2.486100</td>\n",
              "      <td>Sales</td>\n",
              "      <td>50939.2</td>\n",
              "      <td>61453.140811</td>\n",
              "      <td>62186.879347</td>\n",
              "    </tr>\n",
              "  </tbody>\n",
              "</table>\n",
              "<p>526 rows × 6 columns</p>\n",
              "</div>"
            ],
            "text/plain": [
              "     employee_id  ...  predicted salary tenure + department model\n",
              "0            427  ...                                78082.159724\n",
              "1            848  ...                                98402.399102\n",
              "2             63  ...                                60511.282590\n",
              "3            305  ...                                73451.816057\n",
              "4            513  ...                                81427.062547\n",
              "..           ...  ...                                         ...\n",
              "521          274  ...                                75498.101465\n",
              "522          213  ...                                73150.547541\n",
              "523           81  ...                                65651.310318\n",
              "524           60  ...                                63821.464305\n",
              "525           44  ...                                62186.879347\n",
              "\n",
              "[526 rows x 6 columns]"
            ]
          },
          "metadata": {
            "tags": []
          },
          "execution_count": 30
        }
      ]
    },
    {
      "cell_type": "markdown",
      "metadata": {
        "id": "LsPI5rf9uhTX"
      },
      "source": [
        "### **Logistic Regression**\n",
        "\n",
        "Now let's work to model the relationship between a binary (yes/no, true/false, 0/1, etc.) dependent variable and one or more dependent variables. \n",
        "\n",
        "---\n",
        "\n",
        "Let's look at the relationship between `months_since_last_promotion` and `voluntary_attrite` in a new (fake) dataset, where `voluntary_attrite` is a binary variable (left=1, stayed=0)"
      ]
    },
    {
      "cell_type": "code",
      "metadata": {
        "id": "YUhUtR6_xAX_",
        "colab": {
          "base_uri": "https://localhost:8080/",
          "height": 514
        },
        "outputId": "d653284a-ed34-445d-af5b-0285ddb1cf22"
      },
      "source": [
        "#first, let's create our data\n",
        "attrition_data=pd.DataFrame({'employee_number':[1,2,3,4,5,6,7,8,9,10,11,12,13,14,15],\n",
        "                         'voluntary_attrite':[1,0,0,0,1,1,0,1,0,0,0,0,0,0,1],\n",
        "                        'months_since_last_promotion':[13,12,1,35,35,44,18,33,24,7,12,16,17,1,42]})\n",
        "\n",
        "attrition_data.head(15)"
      ],
      "execution_count": null,
      "outputs": [
        {
          "output_type": "execute_result",
          "data": {
            "text/html": [
              "<div>\n",
              "<style scoped>\n",
              "    .dataframe tbody tr th:only-of-type {\n",
              "        vertical-align: middle;\n",
              "    }\n",
              "\n",
              "    .dataframe tbody tr th {\n",
              "        vertical-align: top;\n",
              "    }\n",
              "\n",
              "    .dataframe thead th {\n",
              "        text-align: right;\n",
              "    }\n",
              "</style>\n",
              "<table border=\"1\" class=\"dataframe\">\n",
              "  <thead>\n",
              "    <tr style=\"text-align: right;\">\n",
              "      <th></th>\n",
              "      <th>employee_number</th>\n",
              "      <th>voluntary_attrite</th>\n",
              "      <th>months_since_last_promotion</th>\n",
              "    </tr>\n",
              "  </thead>\n",
              "  <tbody>\n",
              "    <tr>\n",
              "      <th>0</th>\n",
              "      <td>1</td>\n",
              "      <td>1</td>\n",
              "      <td>13</td>\n",
              "    </tr>\n",
              "    <tr>\n",
              "      <th>1</th>\n",
              "      <td>2</td>\n",
              "      <td>0</td>\n",
              "      <td>12</td>\n",
              "    </tr>\n",
              "    <tr>\n",
              "      <th>2</th>\n",
              "      <td>3</td>\n",
              "      <td>0</td>\n",
              "      <td>1</td>\n",
              "    </tr>\n",
              "    <tr>\n",
              "      <th>3</th>\n",
              "      <td>4</td>\n",
              "      <td>0</td>\n",
              "      <td>35</td>\n",
              "    </tr>\n",
              "    <tr>\n",
              "      <th>4</th>\n",
              "      <td>5</td>\n",
              "      <td>1</td>\n",
              "      <td>35</td>\n",
              "    </tr>\n",
              "    <tr>\n",
              "      <th>5</th>\n",
              "      <td>6</td>\n",
              "      <td>1</td>\n",
              "      <td>44</td>\n",
              "    </tr>\n",
              "    <tr>\n",
              "      <th>6</th>\n",
              "      <td>7</td>\n",
              "      <td>0</td>\n",
              "      <td>18</td>\n",
              "    </tr>\n",
              "    <tr>\n",
              "      <th>7</th>\n",
              "      <td>8</td>\n",
              "      <td>1</td>\n",
              "      <td>33</td>\n",
              "    </tr>\n",
              "    <tr>\n",
              "      <th>8</th>\n",
              "      <td>9</td>\n",
              "      <td>0</td>\n",
              "      <td>24</td>\n",
              "    </tr>\n",
              "    <tr>\n",
              "      <th>9</th>\n",
              "      <td>10</td>\n",
              "      <td>0</td>\n",
              "      <td>7</td>\n",
              "    </tr>\n",
              "    <tr>\n",
              "      <th>10</th>\n",
              "      <td>11</td>\n",
              "      <td>0</td>\n",
              "      <td>12</td>\n",
              "    </tr>\n",
              "    <tr>\n",
              "      <th>11</th>\n",
              "      <td>12</td>\n",
              "      <td>0</td>\n",
              "      <td>16</td>\n",
              "    </tr>\n",
              "    <tr>\n",
              "      <th>12</th>\n",
              "      <td>13</td>\n",
              "      <td>0</td>\n",
              "      <td>17</td>\n",
              "    </tr>\n",
              "    <tr>\n",
              "      <th>13</th>\n",
              "      <td>14</td>\n",
              "      <td>0</td>\n",
              "      <td>1</td>\n",
              "    </tr>\n",
              "    <tr>\n",
              "      <th>14</th>\n",
              "      <td>15</td>\n",
              "      <td>1</td>\n",
              "      <td>42</td>\n",
              "    </tr>\n",
              "  </tbody>\n",
              "</table>\n",
              "</div>"
            ],
            "text/plain": [
              "    employee_number  voluntary_attrite  months_since_last_promotion\n",
              "0                 1                  1                           13\n",
              "1                 2                  0                           12\n",
              "2                 3                  0                            1\n",
              "3                 4                  0                           35\n",
              "4                 5                  1                           35\n",
              "5                 6                  1                           44\n",
              "6                 7                  0                           18\n",
              "7                 8                  1                           33\n",
              "8                 9                  0                           24\n",
              "9                10                  0                            7\n",
              "10               11                  0                           12\n",
              "11               12                  0                           16\n",
              "12               13                  0                           17\n",
              "13               14                  0                            1\n",
              "14               15                  1                           42"
            ]
          },
          "metadata": {
            "tags": []
          },
          "execution_count": 31
        }
      ]
    },
    {
      "cell_type": "code",
      "metadata": {
        "id": "fDcLjgGn0a7q",
        "colab": {
          "base_uri": "https://localhost:8080/"
        },
        "outputId": "d54b1ec2-6627-451c-e4be-2b48044e984a"
      },
      "source": [
        "# now let's make separate series for our explanatory variable (months since last promotion)\n",
        "# and our dependent variable (whether or not someone voluntarily attrited)\n",
        "\n",
        "x=attrition_data['months_since_last_promotion']\n",
        "x=sm.add_constant(x)\n",
        "\n",
        "y=attrition_data['voluntary_attrite']\n",
        "\n",
        "#now let's fit our model\n",
        "\n",
        "logistic_model=sm.Logit(y,x).fit()\n",
        "print(logistic_model.summary())\n"
      ],
      "execution_count": null,
      "outputs": [
        {
          "output_type": "stream",
          "text": [
            "Optimization terminated successfully.\n",
            "         Current function value: 0.386306\n",
            "         Iterations 7\n",
            "                           Logit Regression Results                           \n",
            "==============================================================================\n",
            "Dep. Variable:      voluntary_attrite   No. Observations:                   15\n",
            "Model:                          Logit   Df Residuals:                       13\n",
            "Method:                           MLE   Df Model:                            1\n",
            "Date:                Sat, 12 Dec 2020   Pseudo R-squ.:                  0.3931\n",
            "Time:                        16:11:54   Log-Likelihood:                -5.7946\n",
            "converged:                       True   LL-Null:                       -9.5477\n",
            "Covariance Type:            nonrobust   LLR p-value:                  0.006149\n",
            "===============================================================================================\n",
            "                                  coef    std err          z      P>|z|      [0.025      0.975]\n",
            "-----------------------------------------------------------------------------------------------\n",
            "const                          -4.0824      1.894     -2.156      0.031      -7.794      -0.371\n",
            "months_since_last_promotion     0.1422      0.067      2.111      0.035       0.010       0.274\n",
            "===============================================================================================\n"
          ],
          "name": "stdout"
        }
      ]
    },
    {
      "cell_type": "markdown",
      "metadata": {
        "id": "d83zyg-qODcc"
      },
      "source": [
        "#### **Interpreting Results**\n",
        "\n",
        "Interpreting results of logistic regression is somewhat similar to linear regression in terms of standard errors and p-values. \n",
        "\n",
        "HOWEVER, it is different than linear regression in two key areas\n",
        "\n",
        "1. Coefficients: `coef` colmn is in *log odds* form. This is due to the function assumed in logistic regression (more on the technical details [here](https://www.youtube.com/watch?v=yIYKR4sgzI8)). \n",
        "This means that the coefficent you see is the impact of a one unit change on:\n",
        "\n",
        "  $ log(\\frac{p_{attrite}}{(1-p_{attrite})}) $\n",
        "\n",
        "  ...meaning that the coefficient for `months_since_last_promotion` (.1422) represents how one month increase in months_since_last_promotion increases that log ratio of attrition. More on this below.\n",
        "\n",
        "2.  Error: while we have a [pseudo r-squared](https://www.healthcare-economist.com/2016/12/28/what-is-a-pseudo-r-squared/) as one way to measure error. This is already included in the output above. We can also do it by looking at how observations become misclassfied by the model, mainly by looking at the confusion matrix: \n",
        " \n",
        "![](https://2.bp.blogspot.com/-EvSXDotTOwc/XMfeOGZ-CVI/AAAAAAAAEiE/oePFfvhfOQM11dgRn9FkPxlegCXbgOF4QCLcBGAs/s1600/confusionMatrxiUpdated.jpg)\n",
        "[Source](https://manisha-sirsat.blogspot.com/2019/04/confusion-matrix.html)\n",
        "\n",
        "---\n",
        "\n",
        "In terms of coefficients: We probably care about regular odds a bit more, so we need to do a little bit of extra work to say how much of an increase of one month since last promotion changes odds of attrition.\n"
      ]
    },
    {
      "cell_type": "code",
      "metadata": {
        "id": "O73USqmIOaW0",
        "colab": {
          "base_uri": "https://localhost:8080/"
        },
        "outputId": "7d19df56-4c18-40e8-e2c1-4eb592d20b73"
      },
      "source": [
        "# to convert the coefficients from log-odd form to probability form, we must conver them to odds\n",
        "import numpy as np # we need the numpy library to take the exponential of the coefficients\n",
        "\n",
        "#first, let's 'de-log' the coefficients\n",
        "\n",
        "np.exp(logistic_model.params)\n"
      ],
      "execution_count": null,
      "outputs": [
        {
          "output_type": "execute_result",
          "data": {
            "text/plain": [
              "const                          0.016867\n",
              "months_since_last_promotion    1.152790\n",
              "dtype: float64"
            ]
          },
          "metadata": {
            "tags": []
          },
          "execution_count": 33
        }
      ]
    },
    {
      "cell_type": "markdown",
      "metadata": {
        "id": "0HYZmPET340F"
      },
      "source": [
        "So here we see that a one month increase since the previous promotion raises the odds of attrition by about 15%.\n",
        "\n",
        "---\n",
        "\n",
        "But how do we know what this means for **probablity** of attrition?\n",
        "\n",
        "We take our equation given to us by the regression output, and plug in a number for months since promotion. \n",
        "\n",
        "So, let's say we have someone with 30 months since their previous promotion:\n",
        "\n",
        "$ log(Odds_{attrite})=-4.0824+ 30 * 0.1422 = 0.1836  $\n",
        "\n",
        "$ Odds_{attrite}=e^{0.1836} = 1.201 $\n",
        "\n",
        "and recall that $Odds = \\frac{p}{1-p}$ where $ p $ is probability. \n",
        "\n",
        "So, with a little bit of algebra, we can get $p$ using $ \\frac{1.201}{1+1.201}  = .545 $ probability that this person (with 30 months since their last promotion will attrite).  "
      ]
    },
    {
      "cell_type": "code",
      "metadata": {
        "id": "bEg2jPCTALxA",
        "colab": {
          "base_uri": "https://localhost:8080/",
          "height": 548
        },
        "outputId": "7c3a2d7f-97f4-47fd-c1a1-514cf33d2ec1"
      },
      "source": [
        "#Or more simply, we can just generate probabilities for the entire dataset by using the predict function:\n",
        "\n",
        "employee_predictions= pd.DataFrame({'employee_id':attrition_data['employee_number'],\n",
        "              'months_since_last_promotion':attrition_data['months_since_last_promotion'],\n",
        "              'probability of leaving from logistic regression model':logistic_model.predict(x),\n",
        "              'model predicted outcome':[int(x>=.5) for x in logistic_model.predict(x)],\n",
        "              'actual attrition outcome':attrition_data['voluntary_attrite']})\n",
        "\n",
        "employee_predictions\n",
        "\n",
        "\n"
      ],
      "execution_count": null,
      "outputs": [
        {
          "output_type": "execute_result",
          "data": {
            "text/html": [
              "<div>\n",
              "<style scoped>\n",
              "    .dataframe tbody tr th:only-of-type {\n",
              "        vertical-align: middle;\n",
              "    }\n",
              "\n",
              "    .dataframe tbody tr th {\n",
              "        vertical-align: top;\n",
              "    }\n",
              "\n",
              "    .dataframe thead th {\n",
              "        text-align: right;\n",
              "    }\n",
              "</style>\n",
              "<table border=\"1\" class=\"dataframe\">\n",
              "  <thead>\n",
              "    <tr style=\"text-align: right;\">\n",
              "      <th></th>\n",
              "      <th>employee_id</th>\n",
              "      <th>months_since_last_promotion</th>\n",
              "      <th>probability of leaving from logistic regression model</th>\n",
              "      <th>model predicted outcome</th>\n",
              "      <th>actual attrition outcome</th>\n",
              "    </tr>\n",
              "  </thead>\n",
              "  <tbody>\n",
              "    <tr>\n",
              "      <th>0</th>\n",
              "      <td>1</td>\n",
              "      <td>13</td>\n",
              "      <td>0.096742</td>\n",
              "      <td>0</td>\n",
              "      <td>1</td>\n",
              "    </tr>\n",
              "    <tr>\n",
              "      <th>1</th>\n",
              "      <td>2</td>\n",
              "      <td>12</td>\n",
              "      <td>0.085010</td>\n",
              "      <td>0</td>\n",
              "      <td>0</td>\n",
              "    </tr>\n",
              "    <tr>\n",
              "      <th>2</th>\n",
              "      <td>3</td>\n",
              "      <td>1</td>\n",
              "      <td>0.019074</td>\n",
              "      <td>0</td>\n",
              "      <td>0</td>\n",
              "    </tr>\n",
              "    <tr>\n",
              "      <th>3</th>\n",
              "      <td>4</td>\n",
              "      <td>35</td>\n",
              "      <td>0.709736</td>\n",
              "      <td>1</td>\n",
              "      <td>0</td>\n",
              "    </tr>\n",
              "    <tr>\n",
              "      <th>4</th>\n",
              "      <td>5</td>\n",
              "      <td>35</td>\n",
              "      <td>0.709736</td>\n",
              "      <td>1</td>\n",
              "      <td>1</td>\n",
              "    </tr>\n",
              "    <tr>\n",
              "      <th>5</th>\n",
              "      <td>6</td>\n",
              "      <td>44</td>\n",
              "      <td>0.897869</td>\n",
              "      <td>1</td>\n",
              "      <td>1</td>\n",
              "    </tr>\n",
              "    <tr>\n",
              "      <th>6</th>\n",
              "      <td>7</td>\n",
              "      <td>18</td>\n",
              "      <td>0.179014</td>\n",
              "      <td>0</td>\n",
              "      <td>0</td>\n",
              "    </tr>\n",
              "    <tr>\n",
              "      <th>7</th>\n",
              "      <td>8</td>\n",
              "      <td>33</td>\n",
              "      <td>0.647880</td>\n",
              "      <td>1</td>\n",
              "      <td>1</td>\n",
              "    </tr>\n",
              "    <tr>\n",
              "      <th>8</th>\n",
              "      <td>9</td>\n",
              "      <td>24</td>\n",
              "      <td>0.338512</td>\n",
              "      <td>0</td>\n",
              "      <td>0</td>\n",
              "    </tr>\n",
              "    <tr>\n",
              "      <th>9</th>\n",
              "      <td>10</td>\n",
              "      <td>7</td>\n",
              "      <td>0.043644</td>\n",
              "      <td>0</td>\n",
              "      <td>0</td>\n",
              "    </tr>\n",
              "    <tr>\n",
              "      <th>10</th>\n",
              "      <td>11</td>\n",
              "      <td>12</td>\n",
              "      <td>0.085010</td>\n",
              "      <td>0</td>\n",
              "      <td>0</td>\n",
              "    </tr>\n",
              "    <tr>\n",
              "      <th>11</th>\n",
              "      <td>12</td>\n",
              "      <td>16</td>\n",
              "      <td>0.140951</td>\n",
              "      <td>0</td>\n",
              "      <td>0</td>\n",
              "    </tr>\n",
              "    <tr>\n",
              "      <th>12</th>\n",
              "      <td>13</td>\n",
              "      <td>17</td>\n",
              "      <td>0.159062</td>\n",
              "      <td>0</td>\n",
              "      <td>0</td>\n",
              "    </tr>\n",
              "    <tr>\n",
              "      <th>13</th>\n",
              "      <td>14</td>\n",
              "      <td>1</td>\n",
              "      <td>0.019074</td>\n",
              "      <td>0</td>\n",
              "      <td>0</td>\n",
              "    </tr>\n",
              "    <tr>\n",
              "      <th>14</th>\n",
              "      <td>15</td>\n",
              "      <td>42</td>\n",
              "      <td>0.868687</td>\n",
              "      <td>1</td>\n",
              "      <td>1</td>\n",
              "    </tr>\n",
              "  </tbody>\n",
              "</table>\n",
              "</div>"
            ],
            "text/plain": [
              "    employee_id  ...  actual attrition outcome\n",
              "0             1  ...                         1\n",
              "1             2  ...                         0\n",
              "2             3  ...                         0\n",
              "3             4  ...                         0\n",
              "4             5  ...                         1\n",
              "5             6  ...                         1\n",
              "6             7  ...                         0\n",
              "7             8  ...                         1\n",
              "8             9  ...                         0\n",
              "9            10  ...                         0\n",
              "10           11  ...                         0\n",
              "11           12  ...                         0\n",
              "12           13  ...                         0\n",
              "13           14  ...                         0\n",
              "14           15  ...                         1\n",
              "\n",
              "[15 rows x 5 columns]"
            ]
          },
          "metadata": {
            "tags": []
          },
          "execution_count": 34
        }
      ]
    },
    {
      "cell_type": "code",
      "metadata": {
        "id": "dVZKmmiwBcF6",
        "colab": {
          "base_uri": "https://localhost:8080/"
        },
        "outputId": "dcb38a0f-3ba4-4be1-e41c-d4d2ae2cd654"
      },
      "source": [
        "#or in a confusion matrix output:\n",
        "from sklearn import metrics\n",
        "\n",
        "cm=metrics.confusion_matrix(employee_predictions['actual attrition outcome'], employee_predictions['model predicted outcome'])\n",
        "print(cm) #Y axis is actual outcome; X- axis is predicted outcome\n",
        "\n",
        "{'specificity': cm[0,0]/(cm[0,0]+cm[0,1]),\n",
        " 'sensitivity':cm[1,1]/(cm[1,0]+cm[1,1]),\n",
        " 'accuracy':(cm[0,0]+cm[1,1])/(sum(cm[0]+cm[1]))}"
      ],
      "execution_count": null,
      "outputs": [
        {
          "output_type": "stream",
          "text": [
            "[[9 1]\n",
            " [1 4]]\n"
          ],
          "name": "stdout"
        },
        {
          "output_type": "execute_result",
          "data": {
            "text/plain": [
              "{'accuracy': 0.8666666666666667, 'sensitivity': 0.8, 'specificity': 0.9}"
            ]
          },
          "metadata": {
            "tags": []
          },
          "execution_count": 35
        }
      ]
    },
    {
      "cell_type": "markdown",
      "metadata": {
        "id": "tgY0v4RBTdDu"
      },
      "source": [
        "## **Clustering / Segmentation**\n",
        "\n",
        "What if we want to discover groups of employees based on a variety of information we have about them? \n",
        "\n",
        "For example, can we identify groups of employees based off of their responses to questions on a survey? \n",
        "\n",
        "Traditionally, we may have sifted through lots of data, and used business logic to define groups of employees (e.g. scored high in engagement dimensions, but low on questions related to company leadership dimensions). \n",
        "\n",
        "But what if we group employees together that technically shouldn't be grouped together? Or what if we want to consider many different variables at once?\n",
        "\n",
        "Enter cluster analysis. \n",
        "\n",
        "---\n",
        "\n",
        "Cluster analysis deserves its own lecture, and so for brevity, I am linking [this youtube video](https://www.youtube.com/watch?v=Ev8YbxPu_bQ) which gives a nice overview of cluster analysis. The following videos in that series cover the ***K-Means*** - which we will review here below.\n",
        "\n",
        "Let's look in short on how to do a cluster analysis in Python using K-Means:"
      ]
    },
    {
      "cell_type": "code",
      "metadata": {
        "id": "oy6QJfags7iq",
        "colab": {
          "base_uri": "https://localhost:8080/",
          "height": 283
        },
        "outputId": "4f723e27-65ee-431d-f285-7e29f2f37bec"
      },
      "source": [
        "from sklearn.cluster import KMeans\n",
        "from sklearn.preprocessing import StandardScaler\n",
        "\n",
        "#we'll first take out certain columns we want to make groups for into a dataframe called 'features'\n",
        "\n",
        "features=surveydata[['Q1','Q2','Q3','Q4','Q5','Q6','Q7','Q8','Annual Salary','Tenure']]\n",
        "features.index=surveydata['Employee ID'] #we'll keep employee ID as a way to mark rows (index) so we know what we're looking at later\n",
        "\n",
        "#first, we must make all of these variables the same scale (some are in dollars, others years, others likert scale)\n",
        "scaler = StandardScaler()\n",
        "scaled_features = scaler.fit_transform(features)\n",
        "\n",
        "#now, let's discover how many clusters of employees exist in the data\n",
        "\n",
        "sse = []\n",
        "for k in range(1, 11): #test one through eleven clusters\n",
        "  kmeans = KMeans(n_clusters=k)\n",
        "  kmeans.fit(scaled_features)\n",
        "  sse.append(kmeans.inertia_)\n",
        "\n",
        "#now let's look at where there is a drop off in fitness \n",
        "\n",
        "import matplotlib.pyplot as plt\n",
        "plt.plot(sse)\n",
        "plt.ylabel('Sum of Squared Errors')\n",
        "plt.xlabel('Number of Clusters')\n",
        "plt.show() #it appears there are 2-3  clusters of employees in this dataset"
      ],
      "execution_count": null,
      "outputs": [
        {
          "output_type": "display_data",
          "data": {
            "image/png": "[encoded data removed]",
            "text/plain": [
              "<Figure size 432x288 with 1 Axes>"
            ]
          },
          "metadata": {
            "tags": [],
            "needs_background": "light"
          }
        }
      ]
    },
    {
      "cell_type": "code",
      "metadata": {
        "id": "Ac12BrJN_vOQ",
        "colab": {
          "base_uri": "https://localhost:8080/",
          "height": 357
        },
        "outputId": "ae12d17c-f091-4add-d120-2cbc42fe0f20"
      },
      "source": [
        "#let's take a look at the features of an employees with three clusters\n",
        "#first, let's fit the 3 clusters to our feature data from above\n",
        "cluster_scheme_3= KMeans(n_clusters=3).fit(scaled_features)\n",
        "\n",
        "#and let's take the cluster assignment and pass it back\n",
        "features['Cluster Assignment']=cluster_scheme_3.labels_\n",
        "\n",
        "features.head()"
      ],
      "execution_count": null,
      "outputs": [
        {
          "output_type": "stream",
          "text": [
            "/usr/local/lib/python3.6/dist-packages/ipykernel_launcher.py:6: SettingWithCopyWarning: \n",
            "A value is trying to be set on a copy of a slice from a DataFrame.\n",
            "Try using .loc[row_indexer,col_indexer] = value instead\n",
            "\n",
            "See the caveats in the documentation: https://pandas.pydata.org/pandas-docs/stable/user_guide/indexing.html#returning-a-view-versus-a-copy\n",
            "  \n"
          ],
          "name": "stderr"
        },
        {
          "output_type": "execute_result",
          "data": {
            "text/html": [
              "<div>\n",
              "<style scoped>\n",
              "    .dataframe tbody tr th:only-of-type {\n",
              "        vertical-align: middle;\n",
              "    }\n",
              "\n",
              "    .dataframe tbody tr th {\n",
              "        vertical-align: top;\n",
              "    }\n",
              "\n",
              "    .dataframe thead th {\n",
              "        text-align: right;\n",
              "    }\n",
              "</style>\n",
              "<table border=\"1\" class=\"dataframe\">\n",
              "  <thead>\n",
              "    <tr style=\"text-align: right;\">\n",
              "      <th></th>\n",
              "      <th>Q1</th>\n",
              "      <th>Q2</th>\n",
              "      <th>Q3</th>\n",
              "      <th>Q4</th>\n",
              "      <th>Q5</th>\n",
              "      <th>Q6</th>\n",
              "      <th>Q7</th>\n",
              "      <th>Q8</th>\n",
              "      <th>Annual Salary</th>\n",
              "      <th>Tenure</th>\n",
              "      <th>Cluster Assignment</th>\n",
              "    </tr>\n",
              "    <tr>\n",
              "      <th>Employee ID</th>\n",
              "      <th></th>\n",
              "      <th></th>\n",
              "      <th></th>\n",
              "      <th></th>\n",
              "      <th></th>\n",
              "      <th></th>\n",
              "      <th></th>\n",
              "      <th></th>\n",
              "      <th></th>\n",
              "      <th></th>\n",
              "      <th></th>\n",
              "    </tr>\n",
              "  </thead>\n",
              "  <tbody>\n",
              "    <tr>\n",
              "      <th>17</th>\n",
              "      <td>3</td>\n",
              "      <td>4</td>\n",
              "      <td>2</td>\n",
              "      <td>2</td>\n",
              "      <td>5</td>\n",
              "      <td>2</td>\n",
              "      <td>5</td>\n",
              "      <td>1</td>\n",
              "      <td>58385.6</td>\n",
              "      <td>1.949403</td>\n",
              "      <td>2</td>\n",
              "    </tr>\n",
              "    <tr>\n",
              "      <th>33</th>\n",
              "      <td>3</td>\n",
              "      <td>4</td>\n",
              "      <td>5</td>\n",
              "      <td>5</td>\n",
              "      <td>3</td>\n",
              "      <td>2</td>\n",
              "      <td>1</td>\n",
              "      <td>3</td>\n",
              "      <td>56513.6</td>\n",
              "      <td>2.355758</td>\n",
              "      <td>1</td>\n",
              "    </tr>\n",
              "    <tr>\n",
              "      <th>63</th>\n",
              "      <td>3</td>\n",
              "      <td>4</td>\n",
              "      <td>4</td>\n",
              "      <td>5</td>\n",
              "      <td>4</td>\n",
              "      <td>1</td>\n",
              "      <td>1</td>\n",
              "      <td>3</td>\n",
              "      <td>78769.6</td>\n",
              "      <td>2.728467</td>\n",
              "      <td>1</td>\n",
              "    </tr>\n",
              "    <tr>\n",
              "      <th>178</th>\n",
              "      <td>3</td>\n",
              "      <td>3</td>\n",
              "      <td>4</td>\n",
              "      <td>4</td>\n",
              "      <td>3</td>\n",
              "      <td>4</td>\n",
              "      <td>2</td>\n",
              "      <td>2</td>\n",
              "      <td>56014.4</td>\n",
              "      <td>3.682307</td>\n",
              "      <td>1</td>\n",
              "    </tr>\n",
              "    <tr>\n",
              "      <th>196</th>\n",
              "      <td>4</td>\n",
              "      <td>4</td>\n",
              "      <td>5</td>\n",
              "      <td>5</td>\n",
              "      <td>5</td>\n",
              "      <td>2</td>\n",
              "      <td>1</td>\n",
              "      <td>3</td>\n",
              "      <td>57720.0</td>\n",
              "      <td>3.765248</td>\n",
              "      <td>1</td>\n",
              "    </tr>\n",
              "  </tbody>\n",
              "</table>\n",
              "</div>"
            ],
            "text/plain": [
              "             Q1  Q2  Q3  Q4  ...  Q8  Annual Salary    Tenure  Cluster Assignment\n",
              "Employee ID                  ...                                                 \n",
              "17            3   4   2   2  ...   1        58385.6  1.949403                   2\n",
              "33            3   4   5   5  ...   3        56513.6  2.355758                   1\n",
              "63            3   4   4   5  ...   3        78769.6  2.728467                   1\n",
              "178           3   3   4   4  ...   2        56014.4  3.682307                   1\n",
              "196           4   4   5   5  ...   3        57720.0  3.765248                   1\n",
              "\n",
              "[5 rows x 11 columns]"
            ]
          },
          "metadata": {
            "tags": []
          },
          "execution_count": 37
        }
      ]
    },
    {
      "cell_type": "markdown",
      "metadata": {
        "id": "0vj3g47lDJm_"
      },
      "source": [
        "#### **Interpreting Results**\n",
        "\n",
        "After fitting clusters to our data, interpretation is typically done by exploring data by the cluster assignments.\n",
        "\n",
        "This can be done with a combination of exploratory data analysis (summarizing data and visualizing), and statistical analysis of the clusters (testing for differences between groups using tools like those outlined in the section above).\n",
        "\n",
        "This can be a bit iterative, and may make us go back and respecify the number of clusters in our data, or the data we use to form the clusters. "
      ]
    },
    {
      "cell_type": "code",
      "metadata": {
        "id": "x72X2iADBuKz",
        "colab": {
          "base_uri": "https://localhost:8080/",
          "height": 238
        },
        "outputId": "7755248e-ffd6-4c5f-98b2-e45b6febc2aa"
      },
      "source": [
        "#now let's summarize our data a bit by clustering to start to make sense of them\n",
        "\n",
        "#we'll start with the averages of our data by cluster\n",
        "\n",
        "import numpy as np\n",
        "import random\n",
        "random.seed(12345)\n",
        "\n",
        "pd.pivot_table(features,\n",
        "               values=features.columns,\n",
        "               index='Cluster Assignment',\n",
        "               aggfunc=[np.mean])"
      ],
      "execution_count": null,
      "outputs": [
        {
          "output_type": "execute_result",
          "data": {
            "text/html": [
              "<div>\n",
              "<style scoped>\n",
              "    .dataframe tbody tr th:only-of-type {\n",
              "        vertical-align: middle;\n",
              "    }\n",
              "\n",
              "    .dataframe tbody tr th {\n",
              "        vertical-align: top;\n",
              "    }\n",
              "\n",
              "    .dataframe thead tr th {\n",
              "        text-align: left;\n",
              "    }\n",
              "\n",
              "    .dataframe thead tr:last-of-type th {\n",
              "        text-align: right;\n",
              "    }\n",
              "</style>\n",
              "<table border=\"1\" class=\"dataframe\">\n",
              "  <thead>\n",
              "    <tr>\n",
              "      <th></th>\n",
              "      <th colspan=\"10\" halign=\"left\">mean</th>\n",
              "    </tr>\n",
              "    <tr>\n",
              "      <th></th>\n",
              "      <th>Annual Salary</th>\n",
              "      <th>Q1</th>\n",
              "      <th>Q2</th>\n",
              "      <th>Q3</th>\n",
              "      <th>Q4</th>\n",
              "      <th>Q5</th>\n",
              "      <th>Q6</th>\n",
              "      <th>Q7</th>\n",
              "      <th>Q8</th>\n",
              "      <th>Tenure</th>\n",
              "    </tr>\n",
              "    <tr>\n",
              "      <th>Cluster Assignment</th>\n",
              "      <th></th>\n",
              "      <th></th>\n",
              "      <th></th>\n",
              "      <th></th>\n",
              "      <th></th>\n",
              "      <th></th>\n",
              "      <th></th>\n",
              "      <th></th>\n",
              "      <th></th>\n",
              "      <th></th>\n",
              "    </tr>\n",
              "  </thead>\n",
              "  <tbody>\n",
              "    <tr>\n",
              "      <th>0</th>\n",
              "      <td>111549.013333</td>\n",
              "      <td>3.829630</td>\n",
              "      <td>4.214815</td>\n",
              "      <td>4.518519</td>\n",
              "      <td>4.229630</td>\n",
              "      <td>3.57037</td>\n",
              "      <td>4.488889</td>\n",
              "      <td>1.888889</td>\n",
              "      <td>4.688889</td>\n",
              "      <td>7.260551</td>\n",
              "    </tr>\n",
              "    <tr>\n",
              "      <th>1</th>\n",
              "      <td>73003.171429</td>\n",
              "      <td>3.870536</td>\n",
              "      <td>4.312500</td>\n",
              "      <td>4.593750</td>\n",
              "      <td>4.566964</td>\n",
              "      <td>3.18750</td>\n",
              "      <td>2.303571</td>\n",
              "      <td>2.513393</td>\n",
              "      <td>2.633929</td>\n",
              "      <td>4.531319</td>\n",
              "    </tr>\n",
              "    <tr>\n",
              "      <th>2</th>\n",
              "      <td>76672.212500</td>\n",
              "      <td>2.062500</td>\n",
              "      <td>2.445312</td>\n",
              "      <td>2.546875</td>\n",
              "      <td>2.765625</td>\n",
              "      <td>3.56250</td>\n",
              "      <td>2.914062</td>\n",
              "      <td>2.359375</td>\n",
              "      <td>2.507812</td>\n",
              "      <td>4.651014</td>\n",
              "    </tr>\n",
              "  </tbody>\n",
              "</table>\n",
              "</div>"
            ],
            "text/plain": [
              "                             mean            ...                    \n",
              "                    Annual Salary        Q1  ...        Q8    Tenure\n",
              "Cluster Assignment                           ...                    \n",
              "0                   111549.013333  3.829630  ...  4.688889  7.260551\n",
              "1                    73003.171429  3.870536  ...  2.633929  4.531319\n",
              "2                    76672.212500  2.062500  ...  2.507812  4.651014\n",
              "\n",
              "[3 rows x 10 columns]"
            ]
          },
          "metadata": {
            "tags": []
          },
          "execution_count": 38
        }
      ]
    },
    {
      "cell_type": "markdown",
      "metadata": {
        "id": "JhYEbhB4EbRM"
      },
      "source": [
        "Here we observe the characteristics of the clusters:\n",
        "\n",
        "1. Cluster `2` scores considerably lower than the other two clusters for Questions 1-4 (Company Pride and direction of management). \n",
        "\n",
        "2. Cluster `0` has a higher tenure and annual salary than other clusters; it also scores quite high for Question 8 (I believe there are good career opportunities for me at WidgetCorp) and Question 6 (I have access to the resources I need to do my job well at WidgetCorp). \n",
        "\n",
        "3. Cluster `1` scores mostly consistent with the other two groups in all survey dimensions (except possibly Q6: statisical test needed!!) and is otherwise similar to cluster `2`.  \n",
        "\n",
        "**Now** the onus is on you to decide what the possible actions are for each cluster given what we know about them.\n"
      ]
    }
  ]
}